{
 "cells": [
  {
   "cell_type": "code",
   "execution_count": 3,
   "metadata": {},
   "outputs": [],
   "source": [
    "import numpy as np"
   ]
  },
  {
   "cell_type": "code",
   "execution_count": 33,
   "metadata": {},
   "outputs": [
    {
     "name": "stdout",
     "output_type": "stream",
     "text": [
      "[[ 1.  3.  2.  8.  4. 10.]\n",
      " [ 0.  3.  2.  8.  4. 10.]\n",
      " [ 0.  0.  2.  8.  4. 10.]\n",
      " [ 0.  0.  0.  8.  4. 10.]\n",
      " [ 0.  0.  0.  0.  4. 10.]\n",
      " [ 0.  0.  0.  0.  0. 10.]]\n"
     ]
    }
   ],
   "source": [
    "\n",
    "'''\n",
    "Given a array of numbers representing the stock prices of a company in chronological order, write a function that calculates the maximum profit you could have made from buying and selling that stock. You're also given a number fee that represents a transaction fee for each buy and sell transaction.\n",
    "\n",
    "You must buy before you can sell the stock, but you can make as many transactions as you like.\n",
    "\n",
    "For example, given [1, 3, 2, 8, 4, 10] and fee = 2, you should return 9, since you could buy the stock at 1 dollar, and sell at 8 dollars, and then buy it at 4 dollars and sell it at 10 dollars. Since we did two transactions, there is a 4 dollar fee, so we have 7 + 6 = 13 profit minus 4 dollars of fees.\n",
    "'''\n",
    "\n",
    "stocks=[1, 3, 2, 8, 4, 10]\n",
    "\n",
    "fee=2\n",
    "\n",
    "#Construct a directed graph that encodes the problem. \n",
    "\n",
    "def construct_graph(stocks,fee):\n",
    "    adj_mat=np.zeros((len(stocks),len(stocks)))\n",
    "    for j in range(len(stocks)):\n",
    "        #roll_arr=[0]*len(stocks)+stocks+[0]*len(stocks)\n",
    "        #roll_arr=np.roll(roll_arr,shift=j)\n",
    "        adj_mat[j,j:]=stocks[j:]\n",
    "    return adj_mat\n",
    "\n",
    "adj_mat=construct_graph(stocks,fee)\n",
    "print(adj_mat)\n"
   ]
  }
 ],
 "metadata": {
  "kernelspec": {
   "display_name": "Python 3",
   "language": "python",
   "name": "python3"
  },
  "language_info": {
   "codemirror_mode": {
    "name": "ipython",
    "version": 3
   },
   "file_extension": ".py",
   "mimetype": "text/x-python",
   "name": "python",
   "nbconvert_exporter": "python",
   "pygments_lexer": "ipython3",
   "version": "3.7.7"
  }
 },
 "nbformat": 4,
 "nbformat_minor": 4
}
