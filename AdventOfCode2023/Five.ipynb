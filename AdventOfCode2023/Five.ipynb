{
 "cells": [
  {
   "cell_type": "code",
   "execution_count": 6,
   "id": "474b70dd",
   "metadata": {},
   "outputs": [
    {
     "name": "stdout",
     "output_type": "stream",
     "text": [
      "seeds: 79 14 55 13\n",
      "seed-to-soil map:\n",
      "50 98 2\n",
      "52 50 48\n",
      "soil-to-fertilizer map:\n",
      "0 15 37\n",
      "37 52 2\n",
      "39 0 15\n",
      "fertilizer-to-water map:\n",
      "49 53 8\n",
      "0 11 42\n",
      "42 0 7\n",
      "57 7 4\n",
      "water-to-light map:\n",
      "88 18 7\n",
      "18 25 70\n",
      "light-to-temperature map:\n",
      "45 77 23\n",
      "81 45 19\n",
      "68 64 13\n",
      "temperature-to-humidity map:\n",
      "0 69 1\n",
      "1 0 69\n",
      "humidity-to-location map:\n",
      "60 56 37\n",
      "56 93 4\n"
     ]
    }
   ],
   "source": [
    "test='''seeds: 79 14 55 13\n",
    "\n",
    "seed-to-soil map:\n",
    "50 98 2\n",
    "52 50 48\n",
    "\n",
    "soil-to-fertilizer map:\n",
    "0 15 37\n",
    "37 52 2\n",
    "39 0 15\n",
    "\n",
    "fertilizer-to-water map:\n",
    "49 53 8\n",
    "0 11 42\n",
    "42 0 7\n",
    "57 7 4\n",
    "\n",
    "water-to-light map:\n",
    "88 18 7\n",
    "18 25 70\n",
    "\n",
    "light-to-temperature map:\n",
    "45 77 23\n",
    "81 45 19\n",
    "68 64 13\n",
    "\n",
    "temperature-to-humidity map:\n",
    "0 69 1\n",
    "1 0 69\n",
    "\n",
    "humidity-to-location map:\n",
    "60 56 37\n",
    "56 93 4'''\n",
    "\n",
    "def convert_rules(test):\n",
    "    pars=test.split('\\n')\n",
    "    for i in range(len(pars)):\n",
    "        if pars[i]:\n",
    "            print(pars[i]) \n",
    "            words=pars[i].split(' ')\n",
    "            \n",
    "    \n",
    "convert_rules(test)"
   ]
  }
 ],
 "metadata": {
  "kernelspec": {
   "display_name": "Python 3 (ipykernel)",
   "language": "python",
   "name": "python3"
  },
  "language_info": {
   "codemirror_mode": {
    "name": "ipython",
    "version": 3
   },
   "file_extension": ".py",
   "mimetype": "text/x-python",
   "name": "python",
   "nbconvert_exporter": "python",
   "pygments_lexer": "ipython3",
   "version": "3.9.13"
  }
 },
 "nbformat": 4,
 "nbformat_minor": 5
}
