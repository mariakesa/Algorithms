{
 "cells": [
  {
   "cell_type": "code",
   "execution_count": 39,
   "id": "af3902bf",
   "metadata": {
    "scrolled": false
   },
   "outputs": [
    {
     "name": "stdout",
     "output_type": "stream",
     "text": [
      "['Game 1: 19 blue, 12 red; 19 blue, 2 green, 1 red; 13 red, 11 blue', 'Game 2: 1 green, 1 blue, 1 red; 11 red, 3 blue; 1 blue, 18 red; 9 red, 1 green; 2 blue, 11 red, 1 green; 1 green, 2 blue, 10 red', 'Game 3: 3 blue, 2 red, 6 green; 4 blue, 6 green, 1 red; 11 green, 12 blue; 2 red, 6 green, 4 blue; 4 green', 'Game 4: 10 red, 5 green, 5 blue; 3 red, 3 blue, 6 green; 2 blue, 9 red, 6 green; 8 green, 10 red, 4 blue; 9 red, 2 green, 3 blue; 1 blue, 5 red, 15 green', 'Game 5: 11 green, 7 blue; 5 green, 5 red, 1 blue; 1 green, 1 red, 4 blue; 1 red, 1 blue, 4 green; 4 blue, 1 red, 10 green; 5 red, 6 green', 'Game 6: 1 green, 1 red, 11 blue; 1 blue, 2 green; 1 red, 5 green, 9 blue; 7 blue; 1 red, 2 green, 9 blue; 12 blue, 1 red, 2 green', 'Game 7: 1 blue, 10 red, 7 green; 14 blue, 10 green; 12 red, 2 green; 16 red, 13 blue, 1 green; 12 green, 10 red, 3 blue; 9 red, 19 blue, 11 green', 'Game 8: 3 blue, 1 green, 3 red; 4 blue, 10 red, 6 green; 1 green, 10 red, 9 blue; 9 blue, 7 red, 8 green; 8 green, 12 red, 8 blue; 6 blue, 1 green, 13 red', 'Game 9: 10 green, 2 blue, 11 red; 2 green, 2 red; 6 blue, 8 red, 13 green', 'Game 10: 8 red, 3 blue, 5 green; 5 green, 7 blue, 1 red; 3 red, 10 blue, 6 green; 2 red, 6 green, 7 blue; 3 blue, 11 red, 4 green; 8 red, 8 blue, 4 green', 'Game 11: 14 green, 9 red; 3 blue, 6 green, 8 red; 14 green', 'Game 12: 10 red, 5 blue, 1 green; 4 blue, 8 red; 5 blue, 1 green, 6 red; 14 red, 4 blue; 1 green, 11 red, 3 blue', 'Game 13: 1 blue, 16 green, 1 red; 6 red, 2 blue, 5 green; 2 blue, 12 red, 10 green; 3 red, 4 blue, 13 green; 14 red, 4 blue, 12 green; 7 red, 2 green', 'Game 14: 17 red, 11 blue, 3 green; 16 red, 3 blue, 8 green; 3 green, 9 red, 13 blue; 4 green, 15 red, 14 blue', 'Game 15: 7 blue, 2 red, 2 green; 1 green, 5 red, 6 blue; 3 green, 6 red, 2 blue', 'Game 16: 3 red, 3 green; 6 green, 4 red, 3 blue; 3 red, 4 blue; 4 blue, 2 red, 4 green', 'Game 17: 6 red, 1 blue, 5 green; 3 red, 1 green, 12 blue; 13 green, 1 blue; 5 blue, 7 green, 6 red; 5 blue, 14 green, 2 red; 4 green, 6 red, 10 blue', 'Game 18: 4 red, 8 blue; 8 blue, 4 red; 12 blue, 1 green', 'Game 19: 1 blue, 15 green, 9 red; 1 red, 3 green; 4 blue, 2 green, 1 red', 'Game 20: 7 blue, 4 green, 12 red; 1 red, 9 green, 8 blue; 4 blue, 2 green; 13 green, 8 blue; 3 red, 4 green, 1 blue; 6 green, 7 red, 3 blue', 'Game 21: 9 green, 4 blue, 8 red; 5 blue; 7 red, 8 blue, 1 green', 'Game 22: 3 green, 4 red; 6 red, 3 green; 4 red, 1 blue, 1 green; 11 red, 3 green, 1 blue; 7 red, 1 blue', 'Game 23: 3 blue, 4 green; 3 green, 1 red; 1 red, 2 blue, 4 green', 'Game 24: 2 blue, 3 green; 9 red, 4 green; 2 blue, 9 red; 2 green, 10 red, 1 blue; 1 blue, 1 red, 5 green', 'Game 25: 8 green, 4 blue; 9 blue, 7 red; 5 green, 15 blue, 11 red; 11 green, 14 red, 10 blue', 'Game 26: 3 blue; 2 red, 1 green; 2 red, 3 blue; 10 blue, 1 red, 3 green; 1 green, 2 red; 1 green, 6 blue', 'Game 27: 1 green, 6 blue; 2 green, 1 red, 6 blue; 1 red, 2 blue, 1 green', 'Game 28: 8 blue, 1 red, 5 green; 1 red; 3 green, 4 red, 2 blue; 4 green, 2 red, 4 blue; 5 blue, 3 red, 7 green', 'Game 29: 2 green, 4 blue; 7 blue, 4 red, 10 green; 7 blue, 9 green; 14 green, 7 red, 5 blue', 'Game 30: 19 green, 3 red; 19 green; 1 blue, 14 green; 2 blue, 5 green; 3 red, 19 green', 'Game 31: 3 red, 1 green, 4 blue; 10 blue; 3 red, 4 green, 5 blue; 10 blue, 1 red, 6 green', 'Game 32: 19 red, 1 green, 2 blue; 1 blue, 6 green, 13 red; 10 green, 9 red; 11 red, 2 blue, 6 green; 8 green, 5 red', 'Game 33: 2 red, 8 blue, 2 green; 1 red, 3 green; 9 red, 9 blue, 1 green; 6 red, 1 green; 9 blue, 1 green, 8 red; 5 green, 10 red, 8 blue', 'Game 34: 1 red, 6 blue, 2 green; 7 red; 14 red, 13 blue; 13 red, 12 blue; 1 green, 9 red, 13 blue; 2 green, 15 blue', 'Game 35: 8 blue, 2 red, 3 green; 2 green, 2 red; 3 red, 6 blue, 2 green; 2 green, 6 blue; 1 green, 5 blue, 4 red; 3 green, 6 blue', 'Game 36: 3 red, 5 blue, 10 green; 1 red, 1 green, 7 blue; 2 blue, 2 green, 1 red', 'Game 37: 8 red, 7 green; 5 green, 1 blue, 6 red; 7 red, 6 blue, 11 green', 'Game 38: 4 green, 10 red, 9 blue; 12 green, 2 blue, 2 red; 6 red, 6 blue, 9 green; 1 blue, 1 green, 6 red; 3 blue, 1 red, 5 green; 5 blue, 2 red, 12 green', 'Game 39: 1 blue, 2 red; 7 blue, 2 green, 1 red; 7 blue, 11 green, 3 red; 8 blue, 13 green, 1 red; 6 green, 6 blue, 3 red', 'Game 40: 8 green, 5 blue; 5 green, 1 blue, 10 red; 9 green, 3 blue; 3 green, 7 red; 2 green, 3 blue, 5 red', 'Game 41: 7 green, 8 red; 3 blue, 15 green, 7 red; 2 red, 2 green, 4 blue; 10 green, 4 red, 5 blue; 3 red, 8 blue, 9 green; 7 red, 8 green', 'Game 42: 6 blue, 12 green; 3 red, 1 green; 1 red, 12 green, 3 blue; 10 red, 9 green; 9 red, 4 green, 5 blue', 'Game 43: 11 red, 6 green; 2 blue, 11 red; 3 red, 1 blue; 3 green, 11 red, 2 blue; 4 red, 5 green, 1 blue; 8 green, 2 blue, 17 red', 'Game 44: 2 green, 9 blue, 3 red; 7 blue, 1 green, 4 red; 1 green', 'Game 45: 1 green, 10 red; 5 red, 10 green, 1 blue; 11 red, 3 green, 2 blue; 2 blue, 3 green, 4 red; 7 green, 3 red, 2 blue; 1 blue, 10 red', 'Game 46: 1 green, 4 blue, 7 red; 13 blue, 2 green, 9 red; 7 blue, 3 red, 1 green', 'Game 47: 4 blue; 2 green, 2 red, 1 blue; 1 green, 1 red, 4 blue; 1 green, 2 red, 2 blue; 2 blue, 2 red', 'Game 48: 5 green, 10 red; 7 red, 5 green; 1 green, 11 red; 12 red, 11 green; 11 red, 1 blue, 1 green', 'Game 49: 2 green, 1 red, 1 blue; 1 blue, 2 red; 2 green, 1 red, 2 blue; 1 blue, 1 red, 1 green', 'Game 50: 5 green, 2 blue; 4 green, 4 blue, 3 red; 1 red, 7 green, 3 blue', 'Game 51: 9 green, 1 red, 2 blue; 7 red, 3 blue, 6 green; 5 green, 4 blue, 5 red', 'Game 52: 2 green, 4 blue, 1 red; 2 blue, 2 red, 13 green; 8 blue, 3 green; 3 green, 4 blue, 2 red; 2 green', 'Game 53: 3 red; 4 blue, 4 red; 2 blue, 2 red; 6 blue, 1 red, 2 green; 1 red, 1 green, 6 blue; 2 blue, 4 red', 'Game 54: 3 blue, 3 green, 18 red; 4 blue, 18 red, 3 green; 7 blue, 4 green', 'Game 55: 1 green, 2 red, 3 blue; 1 red, 4 blue, 1 green; 3 blue, 2 red; 2 blue, 1 green; 3 blue, 2 red; 1 blue, 1 green, 1 red', 'Game 56: 12 green, 2 red, 1 blue; 11 green, 16 red, 13 blue; 7 red, 5 blue, 12 green; 4 blue, 16 red; 5 red, 1 blue, 3 green', 'Game 57: 5 green, 17 blue, 11 red; 6 blue, 1 green; 1 green, 5 blue, 8 red; 9 green, 11 red, 1 blue; 9 green, 11 blue, 7 red; 8 green, 4 blue', 'Game 58: 5 red, 10 blue, 6 green; 5 green, 11 blue, 5 red; 9 green; 4 red, 2 green', 'Game 59: 2 red, 6 blue, 1 green; 1 green, 12 blue; 2 red', 'Game 60: 6 blue, 10 green, 9 red; 8 red, 19 blue, 2 green; 16 red, 10 green, 12 blue; 13 red, 12 blue, 6 green', 'Game 61: 12 green, 1 red, 3 blue; 3 red, 4 blue, 19 green; 1 blue, 7 green', 'Game 62: 7 red, 6 blue, 8 green; 10 blue, 3 green, 17 red; 13 blue, 3 red, 10 green; 13 red, 5 blue, 9 green; 12 blue, 4 red; 10 red, 4 green', 'Game 63: 19 green, 4 red; 5 blue, 4 red, 1 green; 4 red, 2 blue, 15 green; 5 green, 4 red, 5 blue', 'Game 64: 6 red, 3 green; 6 green, 3 red, 3 blue; 3 blue, 8 red, 5 green; 3 blue, 7 red, 1 green; 1 blue, 6 red, 6 green', 'Game 65: 1 green, 9 blue; 6 blue, 4 green, 6 red; 6 blue, 5 green; 3 red, 1 blue, 4 green', 'Game 66: 1 blue, 2 red; 2 green, 1 blue; 2 red, 1 blue, 1 green; 1 blue, 1 green', 'Game 67: 16 blue, 1 green; 1 blue, 2 green, 2 red; 1 red, 9 blue; 12 blue, 4 green, 1 red; 6 green, 11 blue, 3 red', 'Game 68: 6 blue, 2 red, 1 green; 2 blue, 2 green; 1 green, 7 red, 15 blue; 14 blue, 12 green, 3 red; 13 green, 10 red, 6 blue; 2 green, 5 blue, 1 red', 'Game 69: 2 red, 1 blue, 2 green; 1 blue, 7 green, 1 red; 3 blue, 1 red, 7 green; 2 red, 1 blue, 11 green', 'Game 70: 2 green, 9 red, 3 blue; 12 blue, 1 green, 13 red; 6 red, 1 green, 5 blue; 1 red, 17 blue', 'Game 71: 7 red, 5 green, 6 blue; 5 blue, 5 green; 7 green, 4 blue; 2 green, 4 blue, 8 red; 10 red, 8 green; 3 blue, 13 red, 7 green', 'Game 72: 13 red, 17 green; 9 red, 20 green, 3 blue; 1 green, 3 blue, 8 red', 'Game 73: 1 blue, 7 red, 2 green; 2 green, 1 blue, 8 red; 1 blue, 2 red; 4 red, 7 green; 4 red, 5 green; 3 green, 7 red', 'Game 74: 2 green, 14 blue; 1 red, 1 blue, 7 green; 1 red, 8 green, 11 blue; 4 green, 12 blue; 1 green, 5 blue', 'Game 75: 12 blue, 1 red; 1 red, 7 blue, 4 green; 4 blue, 6 green; 4 green, 3 blue, 1 red', 'Game 76: 7 green, 5 red, 6 blue; 18 red, 1 green; 14 green, 4 red, 15 blue; 4 blue, 6 red', 'Game 77: 2 blue, 2 green, 2 red; 2 blue, 1 red, 1 green; 2 green, 1 red; 6 blue, 4 green; 1 red, 1 blue, 6 green', 'Game 78: 5 red, 16 blue, 12 green; 11 blue, 3 red, 2 green; 13 blue, 4 red', 'Game 79: 9 red, 11 green, 6 blue; 1 red, 3 green; 7 blue, 7 red, 11 green; 8 red, 9 blue, 11 green; 7 red, 11 green, 4 blue', 'Game 80: 7 green, 5 red, 2 blue; 1 blue, 7 green, 1 red; 2 red, 2 blue; 1 red, 4 blue, 12 green; 4 green, 2 blue', 'Game 81: 5 blue, 2 green, 12 red; 2 green, 1 blue, 5 red; 3 blue, 13 red, 3 green; 3 green, 9 blue, 3 red; 10 blue, 4 red, 3 green', 'Game 82: 11 blue, 1 red, 9 green; 11 green, 1 blue, 12 red; 13 red, 6 blue, 19 green', 'Game 83: 6 red, 5 blue, 16 green; 4 green, 17 blue, 9 red; 15 red, 2 green, 9 blue', 'Game 84: 19 green, 11 blue, 3 red; 1 blue, 18 green, 6 red; 17 blue, 5 green, 4 red; 18 blue, 7 green, 3 red', 'Game 85: 3 green, 15 blue; 12 blue; 2 green, 1 red; 1 red, 9 blue, 1 green; 12 blue, 3 red, 1 green', 'Game 86: 3 green, 4 blue, 5 red; 9 red, 4 green, 1 blue; 6 green, 1 blue, 8 red; 3 green, 2 blue, 5 red', 'Game 87: 2 red, 8 blue, 5 green; 3 red, 5 blue, 10 green; 2 red, 3 green', 'Game 88: 16 green, 13 red; 7 green, 1 blue, 2 red; 7 red, 12 green; 5 red, 7 green, 2 blue; 2 blue, 10 green, 7 red; 8 red, 16 green', 'Game 89: 1 blue, 8 red; 2 green, 10 red, 12 blue; 13 green, 14 blue; 10 blue, 15 red, 13 green; 2 green, 5 red, 13 blue', 'Game 90: 16 blue, 7 red, 4 green; 4 green, 6 red, 11 blue; 2 red, 8 blue, 2 green; 5 green, 8 red, 10 blue; 4 red, 2 green, 7 blue; 4 green, 5 blue, 5 red', 'Game 91: 4 red, 4 green, 1 blue; 3 blue, 2 green; 6 blue, 4 green, 5 red; 2 red, 6 blue, 4 green; 6 blue, 1 green', 'Game 92: 1 red, 3 green; 3 blue, 6 green; 5 blue, 1 red, 11 green; 1 red; 3 green, 13 blue', 'Game 93: 1 red, 14 blue, 6 green; 10 blue, 6 red; 9 green, 15 red, 17 blue; 9 red, 1 green, 9 blue', 'Game 94: 3 red, 14 green; 3 blue, 15 green, 3 red; 2 red, 15 green', 'Game 95: 4 blue, 13 red; 5 blue, 1 green, 11 red; 3 green, 3 blue, 10 red; 13 red, 6 blue; 2 green, 5 blue; 3 green, 11 red', 'Game 96: 7 blue, 1 green; 1 green, 4 blue; 1 green, 2 red, 5 blue; 1 red, 2 blue, 1 green; 1 blue', 'Game 97: 15 green, 9 blue; 14 blue, 14 red, 2 green; 18 red, 12 blue, 2 green', 'Game 98: 1 green, 9 red; 1 red, 2 green, 7 blue; 8 red, 1 blue; 6 red, 2 green; 1 green, 6 blue', 'Game 99: 1 green, 2 red, 6 blue; 6 red, 1 green, 5 blue; 11 blue, 6 red; 11 red, 1 green; 1 green, 11 red, 9 blue', 'Game 100: 12 green, 8 blue, 2 red; 7 blue, 14 red, 8 green; 14 red, 1 blue, 4 green']\n"
     ]
    }
   ],
   "source": [
    "# Specify the file name\n",
    "file_name = 'input_2.txt'\n",
    "\n",
    "# Initialize an empty list to store the strings\n",
    "game_list = []\n",
    "\n",
    "# Open the file and read its contents\n",
    "with open(file_name, 'r') as file:\n",
    "    # Read each line and append the string to the list\n",
    "    for line in file:\n",
    "        game_list.append(line.strip())\n",
    "\n",
    "# Print the list of strings\n",
    "print(game_list)"
   ]
  },
  {
   "cell_type": "code",
   "execution_count": 35,
   "id": "65709b3f",
   "metadata": {},
   "outputs": [],
   "source": [
    "string='''Game 1: 3 blue, 4 red; 1 red, 2 green, 6 blue; 2 green\n",
    "Game 2: 1 blue, 2 green; 3 green, 4 blue, 1 red; 1 green, 1 blue\n",
    "Game 3: 8 green, 6 blue, 20 red; 5 blue, 4 red, 13 green; 5 green, 1 red\n",
    "Game 4: 1 green, 3 red, 6 blue; 3 green, 6 red; 3 green, 15 blue, 14 red\n",
    "Game 5: 6 red, 1 blue, 3 green; 2 blue, 1 red, 2 green'''\n",
    "game_list=[]\n",
    "for line in string.split('\\n'):\n",
    "        game_list.append(line.strip())\n"
   ]
  },
  {
   "cell_type": "code",
   "execution_count": 36,
   "id": "6e06ec8b",
   "metadata": {},
   "outputs": [
    {
     "data": {
      "text/plain": [
       "['Game 1: 3 blue, 4 red; 1 red, 2 green, 6 blue; 2 green',\n",
       " 'Game 2: 1 blue, 2 green; 3 green, 4 blue, 1 red; 1 green, 1 blue',\n",
       " 'Game 3: 8 green, 6 blue, 20 red; 5 blue, 4 red, 13 green; 5 green, 1 red',\n",
       " 'Game 4: 1 green, 3 red, 6 blue; 3 green, 6 red; 3 green, 15 blue, 14 red',\n",
       " 'Game 5: 6 red, 1 blue, 3 green; 2 blue, 1 red, 2 green']"
      ]
     },
     "execution_count": 36,
     "metadata": {},
     "output_type": "execute_result"
    }
   ],
   "source": [
    "game_list"
   ]
  },
  {
   "cell_type": "code",
   "execution_count": null,
   "id": "2a4b0ad2",
   "metadata": {},
   "outputs": [],
   "source": [
    "#The Elf would first like to know which games would have been possible i\n",
    "#f the bag contained only 12 red cubes, 13 green cubes, and 14 blue cubes?"
   ]
  },
  {
   "cell_type": "code",
   "execution_count": 45,
   "id": "4282a818",
   "metadata": {
    "scrolled": true
   },
   "outputs": [
    {
     "name": "stdout",
     "output_type": "stream",
     "text": [
      "                  blue                     red                 green\n",
      "0         [19, 19, 11]             [12, 1, 13]                   [2]\n",
      "1      [1, 3, 1, 2, 2]  [1, 11, 18, 9, 11, 10]          [1, 1, 1, 1]\n",
      "2        [3, 4, 12, 4]               [2, 1, 2]      [6, 6, 11, 6, 4]\n",
      "3   [5, 3, 2, 4, 3, 1]    [10, 3, 9, 10, 9, 5]   [5, 6, 6, 8, 2, 15]\n",
      "4      [7, 1, 4, 1, 4]         [5, 1, 1, 1, 5]  [11, 5, 1, 4, 10, 6]\n",
      "..                 ...                     ...                   ...\n",
      "95     [7, 4, 5, 2, 1]                  [2, 1]          [1, 1, 1, 1]\n",
      "96         [9, 14, 12]                [14, 18]            [15, 2, 2]\n",
      "97           [7, 1, 6]            [9, 1, 8, 6]          [1, 2, 2, 1]\n",
      "98       [6, 5, 11, 9]       [2, 6, 6, 11, 11]          [1, 1, 1, 1]\n",
      "99           [8, 7, 1]             [2, 14, 14]            [12, 8, 4]\n",
      "\n",
      "[100 rows x 3 columns]\n"
     ]
    }
   ],
   "source": [
    "import pandas as pd\n",
    "def process_game(games):\n",
    "    cube_dct={'blue':[],\n",
    "        'red': [],\n",
    "        'green': []}\n",
    "    for g in games:\n",
    "        colored_cubes=g.split(',')\n",
    "        for c in colored_cubes:\n",
    "            pair=c.strip().split(' ')\n",
    "            cube_dct[pair[1]].append(int(pair[0]))\n",
    "    return cube_dct\n",
    "                     \n",
    "        \n",
    "def create_df(game_list):\n",
    "    rows=[]\n",
    "    for g in game_list:\n",
    "        cubes=g.split(':')[1]\n",
    "        games=cubes.split(';')\n",
    "        cube_dct=process_game(games)\n",
    "        rows.append(cube_dct)\n",
    "    df=pd.DataFrame(rows)\n",
    "    print(df)\n",
    "    return df\n",
    "df=create_df(game_list)"
   ]
  },
  {
   "cell_type": "code",
   "execution_count": 41,
   "id": "2fcf873c",
   "metadata": {
    "scrolled": true
   },
   "outputs": [
    {
     "name": "stdout",
     "output_type": "stream",
     "text": [
      "                  blue                     red                 green\n",
      "0         [19, 19, 11]             [12, 1, 13]                   [2]\n",
      "1      [1, 3, 1, 2, 2]  [1, 11, 18, 9, 11, 10]          [1, 1, 1, 1]\n",
      "2        [3, 4, 12, 4]               [2, 1, 2]      [6, 6, 11, 6, 4]\n",
      "3   [5, 3, 2, 4, 3, 1]    [10, 3, 9, 10, 9, 5]   [5, 6, 6, 8, 2, 15]\n",
      "4      [7, 1, 4, 1, 4]         [5, 1, 1, 1, 5]  [11, 5, 1, 4, 10, 6]\n",
      "..                 ...                     ...                   ...\n",
      "95     [7, 4, 5, 2, 1]                  [2, 1]          [1, 1, 1, 1]\n",
      "96         [9, 14, 12]                [14, 18]            [15, 2, 2]\n",
      "97           [7, 1, 6]            [9, 1, 8, 6]          [1, 2, 2, 1]\n",
      "98       [6, 5, 11, 9]       [2, 6, 6, 11, 11]          [1, 1, 1, 1]\n",
      "99           [8, 7, 1]             [2, 14, 14]            [12, 8, 4]\n",
      "\n",
      "[100 rows x 3 columns]\n",
      "                  blue                     red                 green  \\\n",
      "0         [19, 19, 11]             [12, 1, 13]                   [2]   \n",
      "1      [1, 3, 1, 2, 2]  [1, 11, 18, 9, 11, 10]          [1, 1, 1, 1]   \n",
      "2        [3, 4, 12, 4]               [2, 1, 2]      [6, 6, 11, 6, 4]   \n",
      "3   [5, 3, 2, 4, 3, 1]    [10, 3, 9, 10, 9, 5]   [5, 6, 6, 8, 2, 15]   \n",
      "4      [7, 1, 4, 1, 4]         [5, 1, 1, 1, 5]  [11, 5, 1, 4, 10, 6]   \n",
      "..                 ...                     ...                   ...   \n",
      "95     [7, 4, 5, 2, 1]                  [2, 1]          [1, 1, 1, 1]   \n",
      "96         [9, 14, 12]                [14, 18]            [15, 2, 2]   \n",
      "97           [7, 1, 6]            [9, 1, 8, 6]          [1, 2, 2, 1]   \n",
      "98       [6, 5, 11, 9]       [2, 6, 6, 11, 11]          [1, 1, 1, 1]   \n",
      "99           [8, 7, 1]             [2, 14, 14]            [12, 8, 4]   \n",
      "\n",
      "    possible_game  \n",
      "0           False  \n",
      "1           False  \n",
      "2            True  \n",
      "3           False  \n",
      "4            True  \n",
      "..            ...  \n",
      "95           True  \n",
      "96          False  \n",
      "97           True  \n",
      "98           True  \n",
      "99          False  \n",
      "\n",
      "[100 rows x 4 columns]\n"
     ]
    }
   ],
   "source": [
    "def process_lst(lst, condition):\n",
    "    condition_dct={'blue':14,\n",
    "                  'red':12,\n",
    "                  'green':13}\n",
    "    val=True\n",
    "    for l in lst:\n",
    "        if condition_dct[condition]<int(l):\n",
    "            val=False\n",
    "    return val\n",
    "\n",
    "def process_row(row):\n",
    "    true_dct={}\n",
    "    truth_value=True\n",
    "    for column_name, column_values in row.items():\n",
    "        result = process_lst(column_values, column_name)\n",
    "        truth_value=truth_value&result\n",
    "    return truth_value\n",
    "\n",
    "df=create_df(game_list)        \n",
    "df['possible_game']=df.apply(process_row,axis=1)\n",
    "    \n",
    "print(df)"
   ]
  },
  {
   "cell_type": "code",
   "execution_count": 43,
   "id": "f747c639",
   "metadata": {},
   "outputs": [
    {
     "name": "stdout",
     "output_type": "stream",
     "text": [
      "2632\n"
     ]
    }
   ],
   "source": [
    "sum_of_indices = sum(df[df['possible_game'] == True].index+1)\n",
    "print(sum_of_indices)"
   ]
  },
  {
   "cell_type": "code",
   "execution_count": 46,
   "id": "ffa21f83",
   "metadata": {},
   "outputs": [],
   "source": [
    "#Part 2\n",
    "\n",
    "def process_row2(row):\n",
    "    max_blue=max(row['blue'])\n",
    "    max_red=max(row['red'])\n",
    "    max_green=max(row['green'])\n",
    "    return max_blue*max_red*max_green\n",
    "\n",
    "df['powers']=df.apply(process_row2, axis=1)"
   ]
  },
  {
   "cell_type": "code",
   "execution_count": 48,
   "id": "a2fd5e98",
   "metadata": {},
   "outputs": [
    {
     "name": "stdout",
     "output_type": "stream",
     "text": [
      "69629\n"
     ]
    }
   ],
   "source": [
    "sum_of_powers = sum(df['powers'])\n",
    "print(sum_of_powers)"
   ]
  }
 ],
 "metadata": {
  "kernelspec": {
   "display_name": "Python 3 (ipykernel)",
   "language": "python",
   "name": "python3"
  },
  "language_info": {
   "codemirror_mode": {
    "name": "ipython",
    "version": 3
   },
   "file_extension": ".py",
   "mimetype": "text/x-python",
   "name": "python",
   "nbconvert_exporter": "python",
   "pygments_lexer": "ipython3",
   "version": "3.9.13"
  }
 },
 "nbformat": 4,
 "nbformat_minor": 5
}
