{
 "cells": [
  {
   "cell_type": "code",
   "execution_count": 1,
   "id": "a2b985f8",
   "metadata": {},
   "outputs": [],
   "source": [
    "import pandas as pd"
   ]
  },
  {
   "cell_type": "code",
   "execution_count": 17,
   "id": "653a5406",
   "metadata": {
    "scrolled": true
   },
   "outputs": [
    {
     "name": "stdout",
     "output_type": "stream",
     "text": [
      "['467..114..', '...*......', '..35..633.', '......#...', '617*......', '.....+.58.', '..592.....', '......755.', '...$.*....', '.664.598..']\n"
     ]
    }
   ],
   "source": [
    "test='''\n",
    "467..114..\n",
    "...*......\n",
    "..35..633.\n",
    "......#...\n",
    "617*......\n",
    ".....+.58.\n",
    "..592.....\n",
    "......755.\n",
    "...$.*....\n",
    ".664.598..\n",
    "'''\n",
    "engine_array=[]\n",
    "for line in test.split('\\n'):\n",
    "        engine_array.append(line.strip())\n",
    "print(engine_array[1:-1])\n",
    "engine_array=engine_array[1:-1]"
   ]
  },
  {
   "cell_type": "code",
   "execution_count": 19,
   "id": "e511effa",
   "metadata": {
    "scrolled": true
   },
   "outputs": [
    {
     "name": "stdout",
     "output_type": "stream",
     "text": [
      "10\n",
      "0 467..114..\n",
      "1 ...*......\n",
      "2 ..35..633.\n",
      "3 ......#...\n",
      "4 617*......\n",
      "5 .....+.58.\n",
      "6 ..592.....\n",
      "7 ......755.\n",
      "8 ...$.*....\n",
      "9 .664.598..\n",
      "7 7\n",
      "[['467', '114'], ['35', '633'], ['617'], ['58'], ['592'], ['755'], ['664', '598']] [[[(0, 0), (0, 1), (0, 2)], [(0, 5), (0, 6), (0, 7)]], [[(2, 2), (2, 3)], [(2, 6), (2, 7), (2, 8)]], [[(4, 0), (4, 1), (4, 2)]], [[(5, 7), (5, 8)]], [[(6, 2), (6, 3), (6, 4)]], [[(7, 6), (7, 7), (7, 8)]], [[(9, 1), (9, 2), (9, 3)], [(9, 5), (9, 6), (9, 7)]]]\n"
     ]
    }
   ],
   "source": [
    "def process_string(i,string):\n",
    "    number_coordinates=[]\n",
    "    number=''\n",
    "    for j, letter in enumerate(string):\n",
    "        if letter.isdigit():\n",
    "            number_coordinates.append((i,j))\n",
    "            number=number+letter\n",
    "    return number_coordinates, number\n",
    "\n",
    "def process_string(i, string):\n",
    "    number_coordinates = []\n",
    "    current_number = ''\n",
    "    number_coordinates_df=[]\n",
    "    numbers_df=[]\n",
    "    \n",
    "    for j, letter in enumerate(string):\n",
    "        if letter.isdigit():\n",
    "            current_number += letter\n",
    "            number_coordinates.append((i,j))\n",
    "        elif current_number:\n",
    "            number_coordinates_df.append(number_coordinates)\n",
    "            numbers_df.append(current_number)\n",
    "            current_number = ''\n",
    "            number_coordinates=[]\n",
    "\n",
    "    if current_number:\n",
    "        number_coordinates_df.append(number_coordinates)\n",
    "        numbers_df.append(current_number)\n",
    "    return number_coordinates_df,numbers_df\n",
    "    \n",
    "\n",
    "def get_number_coordinates(engine_array):\n",
    "    print(len(engine_array))\n",
    "    numbers_df=[]\n",
    "    number_coordinates_df=[]\n",
    "    for i, string in enumerate(engine_array):\n",
    "        print(i,string)\n",
    "        number_coordinates, number = process_string(i,string)\n",
    "        if number_coordinates:\n",
    "            number_coordinates_df.append(number_coordinates)\n",
    "        if number:\n",
    "            numbers_df.append(number)\n",
    "    print(len(numbers_df),len(number_coordinates_df))\n",
    "    print(numbers_df, number_coordinates_df)\n",
    "    return numbers_df, number_coordinates_df\n",
    "        \n",
    "numbers_df, number_coordinates_df=get_number_coordinates(engine_array)"
   ]
  },
  {
   "cell_type": "code",
   "execution_count": 21,
   "id": "80bb62b9",
   "metadata": {},
   "outputs": [
    {
     "name": "stdout",
     "output_type": "stream",
     "text": [
      "['467', '114', '35', '633', '617', '58', '592', '755', '664', '598'] [[(0, 0), (0, 1), (0, 2)], [(0, 5), (0, 6), (0, 7)], [(2, 2), (2, 3)], [(2, 6), (2, 7), (2, 8)], [(4, 0), (4, 1), (4, 2)], [(5, 7), (5, 8)], [(6, 2), (6, 3), (6, 4)], [(7, 6), (7, 7), (7, 8)], [(9, 1), (9, 2), (9, 3)], [(9, 5), (9, 6), (9, 7)]]\n",
      "  numbers       numbers_coordinates\n",
      "0     467  [(0, 0), (0, 1), (0, 2)]\n",
      "1     114  [(0, 5), (0, 6), (0, 7)]\n",
      "2      35          [(2, 2), (2, 3)]\n",
      "3     633  [(2, 6), (2, 7), (2, 8)]\n",
      "4     617  [(4, 0), (4, 1), (4, 2)]\n",
      "5      58          [(5, 7), (5, 8)]\n",
      "6     592  [(6, 2), (6, 3), (6, 4)]\n",
      "7     755  [(7, 6), (7, 7), (7, 8)]\n",
      "8     664  [(9, 1), (9, 2), (9, 3)]\n",
      "9     598  [(9, 5), (9, 6), (9, 7)]\n"
     ]
    },
    {
     "data": {
      "text/html": [
       "<div>\n",
       "<style scoped>\n",
       "    .dataframe tbody tr th:only-of-type {\n",
       "        vertical-align: middle;\n",
       "    }\n",
       "\n",
       "    .dataframe tbody tr th {\n",
       "        vertical-align: top;\n",
       "    }\n",
       "\n",
       "    .dataframe thead th {\n",
       "        text-align: right;\n",
       "    }\n",
       "</style>\n",
       "<table border=\"1\" class=\"dataframe\">\n",
       "  <thead>\n",
       "    <tr style=\"text-align: right;\">\n",
       "      <th></th>\n",
       "      <th>numbers</th>\n",
       "      <th>numbers_coordinates</th>\n",
       "    </tr>\n",
       "  </thead>\n",
       "  <tbody>\n",
       "    <tr>\n",
       "      <th>0</th>\n",
       "      <td>467</td>\n",
       "      <td>[(0, 0), (0, 1), (0, 2)]</td>\n",
       "    </tr>\n",
       "    <tr>\n",
       "      <th>1</th>\n",
       "      <td>114</td>\n",
       "      <td>[(0, 5), (0, 6), (0, 7)]</td>\n",
       "    </tr>\n",
       "    <tr>\n",
       "      <th>2</th>\n",
       "      <td>35</td>\n",
       "      <td>[(2, 2), (2, 3)]</td>\n",
       "    </tr>\n",
       "    <tr>\n",
       "      <th>3</th>\n",
       "      <td>633</td>\n",
       "      <td>[(2, 6), (2, 7), (2, 8)]</td>\n",
       "    </tr>\n",
       "    <tr>\n",
       "      <th>4</th>\n",
       "      <td>617</td>\n",
       "      <td>[(4, 0), (4, 1), (4, 2)]</td>\n",
       "    </tr>\n",
       "    <tr>\n",
       "      <th>5</th>\n",
       "      <td>58</td>\n",
       "      <td>[(5, 7), (5, 8)]</td>\n",
       "    </tr>\n",
       "    <tr>\n",
       "      <th>6</th>\n",
       "      <td>592</td>\n",
       "      <td>[(6, 2), (6, 3), (6, 4)]</td>\n",
       "    </tr>\n",
       "    <tr>\n",
       "      <th>7</th>\n",
       "      <td>755</td>\n",
       "      <td>[(7, 6), (7, 7), (7, 8)]</td>\n",
       "    </tr>\n",
       "    <tr>\n",
       "      <th>8</th>\n",
       "      <td>664</td>\n",
       "      <td>[(9, 1), (9, 2), (9, 3)]</td>\n",
       "    </tr>\n",
       "    <tr>\n",
       "      <th>9</th>\n",
       "      <td>598</td>\n",
       "      <td>[(9, 5), (9, 6), (9, 7)]</td>\n",
       "    </tr>\n",
       "  </tbody>\n",
       "</table>\n",
       "</div>"
      ],
      "text/plain": [
       "  numbers       numbers_coordinates\n",
       "0     467  [(0, 0), (0, 1), (0, 2)]\n",
       "1     114  [(0, 5), (0, 6), (0, 7)]\n",
       "2      35          [(2, 2), (2, 3)]\n",
       "3     633  [(2, 6), (2, 7), (2, 8)]\n",
       "4     617  [(4, 0), (4, 1), (4, 2)]\n",
       "5      58          [(5, 7), (5, 8)]\n",
       "6     592  [(6, 2), (6, 3), (6, 4)]\n",
       "7     755  [(7, 6), (7, 7), (7, 8)]\n",
       "8     664  [(9, 1), (9, 2), (9, 3)]\n",
       "9     598  [(9, 5), (9, 6), (9, 7)]"
      ]
     },
     "execution_count": 21,
     "metadata": {},
     "output_type": "execute_result"
    }
   ],
   "source": [
    "def align_numbers_coordinates(numbers_df, number_coordinates_df):\n",
    "    numbers_column=[]\n",
    "    number_coordinates_column=[]\n",
    "    for i, row in enumerate(numbers_df):\n",
    "        for j, number in enumerate(row):\n",
    "            numbers_column.append(number)\n",
    "            number_coordinates_column.append(number_coordinates_df[i][j])\n",
    "    print(numbers_column, number_coordinates_column)\n",
    "    df=pd.DataFrame()\n",
    "    df['numbers']=numbers_column\n",
    "    df['numbers_coordinates']=number_coordinates_column\n",
    "    print(df)\n",
    "    return df\n",
    "\n",
    "align_numbers_coordinates(numbers_df, number_coordinates_df)"
   ]
  }
 ],
 "metadata": {
  "kernelspec": {
   "display_name": "Python 3 (ipykernel)",
   "language": "python",
   "name": "python3"
  },
  "language_info": {
   "codemirror_mode": {
    "name": "ipython",
    "version": 3
   },
   "file_extension": ".py",
   "mimetype": "text/x-python",
   "name": "python",
   "nbconvert_exporter": "python",
   "pygments_lexer": "ipython3",
   "version": "3.9.13"
  }
 },
 "nbformat": 4,
 "nbformat_minor": 5
}
