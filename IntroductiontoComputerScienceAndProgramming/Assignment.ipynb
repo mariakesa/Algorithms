{
 "cells": [
  {
   "cell_type": "markdown",
   "metadata": {},
   "source": [
    "# Problem Set 1"
   ]
  },
  {
   "cell_type": "code",
   "execution_count": 2,
   "metadata": {},
   "outputs": [
    {
     "name": "stdout",
     "output_type": "stream",
     "text": [
      "What is your name?Maria\n",
      "What is your last name?Kesa\n",
      "Maria Kesa\n"
     ]
    }
   ],
   "source": [
    "name=input(\"What is your name?\")\n",
    "lastname=input(\"What is your last name?\")\n",
    "print(name, lastname)"
   ]
  },
  {
   "cell_type": "markdown",
   "metadata": {},
   "source": [
    "# Problem Set 2"
   ]
  },
  {
   "cell_type": "code",
   "execution_count": 79,
   "metadata": {},
   "outputs": [
    {
     "name": "stdout",
     "output_type": "stream",
     "text": [
      "(7500,)\n",
      "(1754,)\n"
     ]
    }
   ],
   "source": [
    "import numpy as np\n",
    "\n",
    "initial=np.arange(0,15000)\n",
    "#initial=np.arange(0,200)\n",
    "odd_candidates=initial[1::2]\n",
    "print(odd_candidates.shape)\n",
    "\n",
    "def prime(arr):\n",
    "    primes_lst=[]\n",
    "    it=0\n",
    "    for candidate_ind in range(0,arr.shape[0]-1):\n",
    "        #print(candidate)\n",
    "        previous=arr[1:candidate_ind]\n",
    "        #print('prev',previous)\n",
    "        bool_lst=[]\n",
    "        for factor in previous:\n",
    "            #print(factor,arr[candidate_ind])\n",
    "            if arr[candidate_ind]%factor==0:\n",
    "                bool_lst.append(False)\n",
    "            else:\n",
    "                bool_lst.append(True)\n",
    "        bool_lst=np.array(bool_lst)\n",
    "        #print(bool_lst)\n",
    "        if np.all(bool_lst)==True:\n",
    "            primes_lst.append(arr[candidate_ind].item())\n",
    "            it+=1\n",
    "        print(it)\n",
    "    return primes_lst\n",
    "    \n",
    "ans=prime(odd_candidates)\n",
    "print(np.array(ans).flatten().shape)"
   ]
  }
 ],
 "metadata": {
  "kernelspec": {
   "display_name": "Python 3",
   "language": "python",
   "name": "python3"
  },
  "language_info": {
   "codemirror_mode": {
    "name": "ipython",
    "version": 3
   },
   "file_extension": ".py",
   "mimetype": "text/x-python",
   "name": "python",
   "nbconvert_exporter": "python",
   "pygments_lexer": "ipython3",
   "version": "3.7.4"
  }
 },
 "nbformat": 4,
 "nbformat_minor": 2
}
