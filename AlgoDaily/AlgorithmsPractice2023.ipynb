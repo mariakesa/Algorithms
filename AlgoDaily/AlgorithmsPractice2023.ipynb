{
 "cells": [
  {
   "cell_type": "code",
   "execution_count": 31,
   "id": "52d9ffed",
   "metadata": {},
   "outputs": [
    {
     "data": {
      "text/plain": [
       "'abcdefg'"
      ]
     },
     "execution_count": 31,
     "metadata": {},
     "output_type": "execute_result"
    }
   ],
   "source": [
    "#Reverse string, don't use string[::-1], O(1) memory\n",
    "\n",
    "string=\"abcdefg\"\n",
    "\n",
    "def reverse(string):\n",
    "    '''\n",
    "    A clever two pointer technique is needed to reverse the string in place.\n",
    "    In addition, lists of letters have to be used as String is an immutable data type.\n",
    "    '''\n",
    "    string_lets=[]\n",
    "    for l in string:\n",
    "        string_lets+=[l]\n",
    "    from_start_ind=0\n",
    "    for from_end_ind in range(len(string_lets)//2):\n",
    "        string_lets[from_start_ind],string_lets[from_end_ind]=string_lets[len(string_lets)-from_end_ind-1],string_lets[from_end_ind]\n",
    "        from_start_ind+=1    \n",
    "    return ''.join(string_lets)\n",
    "    \n",
    "reverse(string)"
   ]
  }
 ],
 "metadata": {
  "kernelspec": {
   "display_name": "Python 3 (ipykernel)",
   "language": "python",
   "name": "python3"
  },
  "language_info": {
   "codemirror_mode": {
    "name": "ipython",
    "version": 3
   },
   "file_extension": ".py",
   "mimetype": "text/x-python",
   "name": "python",
   "nbconvert_exporter": "python",
   "pygments_lexer": "ipython3",
   "version": "3.9.13"
  }
 },
 "nbformat": 4,
 "nbformat_minor": 5
}
