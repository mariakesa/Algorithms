{
 "cells": [
  {
   "cell_type": "code",
   "execution_count": 47,
   "id": "8522a505",
   "metadata": {},
   "outputs": [],
   "source": [
    "#FizzBuzz\n",
    "'''\n",
    "Fizz Buzz is a classic interview question that apparently many experienced engineering candidates often can't solve! Let's cover it today.\n",
    "\n",
    "We're given a number in the form of an integer n.\n",
    "\n",
    "Write a function that returns the string representation of all numbers from 1 to n based on the following rules:\n",
    "\n",
    "If it's a multiple of 3, represent it as \"fizz\".\n",
    "\n",
    "If it's a multiple of 5, represent it as \"buzz\".\n",
    "\n",
    "If it's a multiple of both 3 and 5, represent it as \"fizzbuzz\".\n",
    "\n",
    "If it's neither, just return the number itself.\n",
    "'''\n",
    "\n",
    "def fizzbuzz(n):\n",
    "    fizzbuzz_string=''\n",
    "    for i in range(1,n+1):\n",
    "        if i%3==0 and i%5==0:\n",
    "            fizzbuzz_string+='fizzbuzz'\n",
    "        elif i%3==0:\n",
    "            fizzbuzz_string+='fizz'\n",
    "        elif i%5==0:\n",
    "            fizzbuzz_string+='buzz'\n",
    "        else:\n",
    "            fizzbuzz_string+=str(i)\n",
    "    return fizzbuzz_string\n",
    "\n",
    "output=fizzbuzz(15)\n",
    "assert output=='12fizz4buzzfizz78fizzbuzz11fizz1314fizzbuzz'"
   ]
  },
  {
   "cell_type": "code",
   "execution_count": 42,
   "id": "2c53670a",
   "metadata": {},
   "outputs": [
    {
     "data": {
      "text/plain": [
       "['green', 'red', 'yellow']"
      ]
     },
     "execution_count": 42,
     "metadata": {},
     "output_type": "execute_result"
    }
   ],
   "source": [
    "#Return intersection of two arrays\n",
    "#Time complexity O(n+m)\n",
    "#Space complexity O(max(n,m))\n",
    "\n",
    "arr1=[\"green\",\"orage\",\"blue\",\"red\",\"yellow\"]\n",
    "arr2=[\"black\",\"green\",\"red\",\"purple\",\"yellow\",\"pink\"]\n",
    "\n",
    "def intersection(arr1,arr2):\n",
    "    '''\n",
    "    Hashing based linear implementation.\n",
    "    Interesting note el in lookup_table.keys()\n",
    "    would still be O(1)-- https://stackoverflow.com/questions/17539367/python-dictionary-keys-in-complexity\n",
    "    '''\n",
    "    if len(arr1)<len(arr2):\n",
    "        arr1,arr2=arr2,arr1\n",
    "    lookup_table={}\n",
    "    for el in arr1:\n",
    "        lookup_table[el]=0\n",
    "    intersection=[]\n",
    "    for el in arr2:\n",
    "        if el in lookup_table:\n",
    "            intersection.append(el)\n",
    "    return intersection\n",
    "\n",
    "intersection(arr1,arr2)"
   ]
  },
  {
   "cell_type": "code",
   "execution_count": 38,
   "id": "f29bde57",
   "metadata": {},
   "outputs": [
    {
     "data": {
      "text/plain": [
       "'gfedcba'"
      ]
     },
     "execution_count": 38,
     "metadata": {},
     "output_type": "execute_result"
    }
   ],
   "source": [
    "#Reverse string, don't use string[::-1], O(1) memory\n",
    "\n",
    "string=\"abcdefg\"\n",
    "\n",
    "def reverse(string):\n",
    "    '''\n",
    "    A clever two pointer technique is needed to reverse the string in place.\n",
    "    In addition, lists of letters have to be used as String is an immutable data type.\n",
    "    https://towardsdatascience.com/two-pointer-approach-python-code-f3986b602640\n",
    "    '''\n",
    "    string_lets=[]\n",
    "    for l in string:\n",
    "        string_lets+=[l]\n",
    "    from_start_ind=0\n",
    "    for from_end_ind in range(len(string_lets)//2):\n",
    "        string_lets[from_start_ind],string_lets[len(string_lets)-from_end_ind-1]=string_lets[len(string_lets)-from_end_ind-1],string_lets[from_start_ind]\n",
    "        from_start_ind+=1    \n",
    "    return ''.join(string_lets)\n",
    "    \n",
    "reverse(string)"
   ]
  }
 ],
 "metadata": {
  "kernelspec": {
   "display_name": "Python 3 (ipykernel)",
   "language": "python",
   "name": "python3"
  },
  "language_info": {
   "codemirror_mode": {
    "name": "ipython",
    "version": 3
   },
   "file_extension": ".py",
   "mimetype": "text/x-python",
   "name": "python",
   "nbconvert_exporter": "python",
   "pygments_lexer": "ipython3",
   "version": "3.9.13"
  }
 },
 "nbformat": 4,
 "nbformat_minor": 5
}
