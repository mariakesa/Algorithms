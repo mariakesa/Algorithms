{
 "cells": [
  {
   "cell_type": "code",
   "execution_count": 42,
   "id": "9fc58375",
   "metadata": {},
   "outputs": [
    {
     "data": {
      "text/plain": [
       "['green', 'red', 'yellow']"
      ]
     },
     "execution_count": 42,
     "metadata": {},
     "output_type": "execute_result"
    }
   ],
   "source": [
    "#Return intersection of two arrays\n",
    "#Time complexity O(n+m)\n",
    "#Space complexity O(max(n,m))\n",
    "\n",
    "arr1=[\"green\",\"orage\",\"blue\",\"red\",\"yellow\"]\n",
    "arr2=[\"black\",\"green\",\"red\",\"purple\",\"yellow\",\"pink\"]\n",
    "\n",
    "def intersection(arr1,arr2):\n",
    "    '''\n",
    "    Hashing based linear implementation.\n",
    "    Interesting note el in lookup_table.keys()\n",
    "    would still be O(1)-- https://stackoverflow.com/questions/17539367/python-dictionary-keys-in-complexity\n",
    "    '''\n",
    "    if len(arr1)<len(arr2):\n",
    "        arr1,arr2=arr2,arr1\n",
    "    lookup_table={}\n",
    "    for el in arr1:\n",
    "        lookup_table[el]=0\n",
    "    intersection=[]\n",
    "    for el in arr2:\n",
    "        if el in lookup_table:\n",
    "            intersection.append(el)\n",
    "    return intersection\n",
    "\n",
    "intersection(arr1,arr2)"
   ]
  },
  {
   "cell_type": "code",
   "execution_count": 38,
   "id": "87a89321",
   "metadata": {},
   "outputs": [
    {
     "data": {
      "text/plain": [
       "'gfedcba'"
      ]
     },
     "execution_count": 38,
     "metadata": {},
     "output_type": "execute_result"
    }
   ],
   "source": [
    "#Reverse string, don't use string[::-1], O(1) memory\n",
    "\n",
    "string=\"abcdefg\"\n",
    "\n",
    "def reverse(string):\n",
    "    '''\n",
    "    A clever two pointer technique is needed to reverse the string in place.\n",
    "    In addition, lists of letters have to be used as String is an immutable data type.\n",
    "    https://towardsdatascience.com/two-pointer-approach-python-code-f3986b602640\n",
    "    '''\n",
    "    string_lets=[]\n",
    "    for l in string:\n",
    "        string_lets+=[l]\n",
    "    from_start_ind=0\n",
    "    for from_end_ind in range(len(string_lets)//2):\n",
    "        string_lets[from_start_ind],string_lets[len(string_lets)-from_end_ind-1]=string_lets[len(string_lets)-from_end_ind-1],string_lets[from_start_ind]\n",
    "        from_start_ind+=1    \n",
    "    return ''.join(string_lets)\n",
    "    \n",
    "reverse(string)"
   ]
  }
 ],
 "metadata": {
  "kernelspec": {
   "display_name": "Python 3 (ipykernel)",
   "language": "python",
   "name": "python3"
  },
  "language_info": {
   "codemirror_mode": {
    "name": "ipython",
    "version": 3
   },
   "file_extension": ".py",
   "mimetype": "text/x-python",
   "name": "python",
   "nbconvert_exporter": "python",
   "pygments_lexer": "ipython3",
   "version": "3.9.13"
  }
 },
 "nbformat": 4,
 "nbformat_minor": 5
}
