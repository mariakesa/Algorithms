{
 "cells": [
  {
   "cell_type": "code",
   "execution_count": 182,
   "id": "19d4f525",
   "metadata": {},
   "outputs": [
    {
     "name": "stdout",
     "output_type": "stream",
     "text": [
      "f$st st\n",
      "The strings are the same\n",
      "The strings are not the same\n",
      "The strings are the same\n",
      "The strings are not the same\n",
      "The strings are not the same\n"
     ]
    }
   ],
   "source": [
    "#Day 13: Dollar Sign Deletion\n",
    "#You're given an array of strings containing alphabetical characters and certain $ characters. \n",
    "#A $ represents a DELETE action whereby the character before it is deleted.\n",
    "\n",
    "#Each of these strings will be run through a method to operate on the $ DELETE action. \n",
    "#We want to find out if the final string is the same for all of them.\n",
    "\n",
    "#Can you find a solution in O(n) time and constant space?\n",
    "\n",
    "inp = [\"fg$f$g$st\",\"ff$st\",\"f$st\", \"st\"]\n",
    "\n",
    "def is_equal_after_delete(s1, s2, i, j):\n",
    "    '''\n",
    "    Recursive implementation\n",
    "    '''\n",
    "    if i < -len(s1) and j < -len(s2):\n",
    "        return 'The strings are the same'\n",
    "    elif i<-len(s1):\n",
    "        if s2[j] == '$':\n",
    "            return is_equal_after_delete(s1, s2, i, j-2)\n",
    "        else:\n",
    "            return 'The strings are not the same'\n",
    "    elif j<-len(s2):\n",
    "        if s1[i] == '$':\n",
    "            return is_equal_after_delete(s1, s2, i-2, j)\n",
    "        else:\n",
    "            return 'The strings are not the same'\n",
    "    if s1[i] == '$':\n",
    "        return is_equal_after_delete(s1, s2, i-2, j)\n",
    "    if s2[j] == '$':\n",
    "        return is_equal_after_delete(s1, s2, i, j-2)\n",
    "    if s1[i] != s2[j]:\n",
    "        return 'The strings are not the same'\n",
    "    return is_equal_after_delete(s1, s2, i-1, j-1)\n",
    "      \n",
    "             \n",
    "print(inp[-2],inp[-1])        \n",
    "print(is_equal_after_delete(inp[-2],inp[-1],-1,-1))  \n",
    "print(is_equal_after_delete(inp[0],inp[-1],-1,-1))  \n",
    "print(is_equal_after_delete(\"zabc$\",\"zab\",-1,-1))\n",
    "print(is_equal_after_delete(\"gzabc$\",\"zab\",-1,-1))\n",
    "print(is_equal_after_delete(\"gzabc$\",\"cab\",-1,-1))\n"
   ]
  },
  {
   "cell_type": "code",
   "execution_count": null,
   "id": "0000d96f",
   "metadata": {},
   "outputs": [],
   "source": [
    "#https://www.techiedelight.com/inorder-tree-traversal-iterative-recursive/"
   ]
  },
  {
   "cell_type": "code",
   "execution_count": 11,
   "id": "b1d7d21c",
   "metadata": {},
   "outputs": [
    {
     "name": "stdout",
     "output_type": "stream",
     "text": [
      "9 is a power of three!\n",
      "4 is not a power of three.\n"
     ]
    }
   ],
   "source": [
    "#Determine if a number is a power of 3 in O(log(n)) space and O(1) time.\n",
    "import math\n",
    "\n",
    "def pow_three(nr):\n",
    "    ans=math.log(nr,3)\n",
    "    if ans.is_integer():\n",
    "        return str(nr)+ ' is a power of three!'\n",
    "    else:\n",
    "        return str(nr)+' is not a power of three.'\n",
    "ans=pow_three(9)\n",
    "print(ans)\n",
    "ans=pow_three(4)\n",
    "print(ans)"
   ]
  },
  {
   "cell_type": "code",
   "execution_count": 5,
   "id": "5f56b7af",
   "metadata": {},
   "outputs": [
    {
     "name": "stdout",
     "output_type": "stream",
     "text": [
      "There is no majority element!\n",
      "The majority element is: 4\n"
     ]
    }
   ],
   "source": [
    "#### Majority element\n",
    "'''\n",
    "Suppose we're given an array of numbers like the following:\n",
    "\n",
    "[4, 2, 4]\n",
    "\n",
    "Could you find the majority element? A majority is defined as \"the greater part, or more than half, of the total. It is a subset of a set consisting of more than half of the set's elements.\"\n",
    "\n",
    "Let's assume that the array length is always at least one, and that there's always a majority element.\n",
    "\n",
    "In the example above, the majority element would be 4.\n",
    "'''\n",
    "\n",
    "a=[4,2,4,2,1,4,1,2,4] #No majority\n",
    "b=[4,2,4]\n",
    "\n",
    "def find_majority_el(lst):\n",
    "    cnt_dct={}\n",
    "    el_cnt=0\n",
    "    for el in lst:\n",
    "        if el not in cnt_dct.keys():\n",
    "            cnt_dct[el]=1\n",
    "        else:\n",
    "            cnt_dct[el]+=1\n",
    "        el_cnt+=1\n",
    "    for k in cnt_dct.keys():\n",
    "        if cnt_dct[k]/el_cnt>1/2:\n",
    "            return 'The majority element is: '+str(k)\n",
    "    return 'There is no majority element!'\n",
    "\n",
    "a_maj=find_majority_el(a)\n",
    "print(a_maj)\n",
    "b_maj=find_majority_el(b)\n",
    "print(b_maj)"
   ]
  },
  {
   "cell_type": "code",
   "execution_count": 4,
   "id": "bcf5fc1b",
   "metadata": {},
   "outputs": [
    {
     "name": "stdout",
     "output_type": "stream",
     "text": [
      "The strings are anagrams!\n",
      "Not anagrams!\n"
     ]
    }
   ],
   "source": [
    "#Check if two strings are anagrams\n",
    "#Here's the definition of an anagram: a word, phrase, or name formed by \n",
    "#rearranging the letters of another: such as cinema, formed from iceman.\n",
    "#Time complexity O(n*log(n))\n",
    "#Space complexity O(n)\n",
    "\n",
    "#nlog(n) suggests a searching algorithm and indeed you can sort the two arrays and compare them. This gives \n",
    "#O(n*log(n)+n)=O(n*log(n))\n",
    "\n",
    "#I assume two strings are of the same length. \n",
    "\n",
    "\n",
    "string1='cinema'\n",
    "string2='iceman'\n",
    "string3='aceman'\n",
    "\n",
    "def check_anagram(string1,string2):\n",
    "    s1=sorted(string1)\n",
    "    s2=sorted(string2)\n",
    "    for i in range(0,len(string1)):\n",
    "        if s1[i]!=s2[i]:\n",
    "            return 'Not anagrams!'\n",
    "    return 'The strings are anagrams!'\n",
    "\n",
    "print(check_anagram(string1,string2))\n",
    "print(check_anagram(string1,string3))\n",
    "        "
   ]
  },
  {
   "cell_type": "code",
   "execution_count": 81,
   "id": "f4a64dc4",
   "metadata": {},
   "outputs": [
    {
     "name": "stdout",
     "output_type": "stream",
     "text": [
      "11\n",
      "['s', 's', 'l', '!', '$', 'h', 'e', 'l', 'a', 'e', '3']\n",
      "ssl!$helae3\n"
     ]
    },
    {
     "ename": "AssertionError",
     "evalue": "",
     "output_type": "error",
     "traceback": [
      "\u001b[0;31m---------------------------------------------------------------------------\u001b[0m",
      "\u001b[0;31mAssertionError\u001b[0m                            Traceback (most recent call last)",
      "\u001b[0;32m/tmp/ipykernel_66541/4136774913.py\u001b[0m in \u001b[0;36m<module>\u001b[0;34m\u001b[0m\n\u001b[1;32m     28\u001b[0m \u001b[0mreverse\u001b[0m\u001b[0;34m=\u001b[0m\u001b[0mreverse_only_alphabetical\u001b[0m\u001b[0;34m(\u001b[0m\u001b[0mstring\u001b[0m\u001b[0;34m)\u001b[0m\u001b[0;34m\u001b[0m\u001b[0;34m\u001b[0m\u001b[0m\n\u001b[1;32m     29\u001b[0m \u001b[0mprint\u001b[0m\u001b[0;34m(\u001b[0m\u001b[0mreverse\u001b[0m\u001b[0;34m)\u001b[0m\u001b[0;34m\u001b[0m\u001b[0;34m\u001b[0m\u001b[0m\n\u001b[0;32m---> 30\u001b[0;31m \u001b[0;32massert\u001b[0m \u001b[0mreverse\u001b[0m\u001b[0;34m==\u001b[0m\u001b[0manswer\u001b[0m\u001b[0;34m\u001b[0m\u001b[0;34m\u001b[0m\u001b[0m\n\u001b[0m",
      "\u001b[0;31mAssertionError\u001b[0m: "
     ]
    }
   ],
   "source": [
    "#NOT COMPLETED YET\n",
    "#Reverse only alphabetical\n",
    "#Expected time complexity O(n)\n",
    "#Expected space complexity O(n)\n",
    "'''\n",
    "You are given a string that contains alphabetical characters (a - z, A - Z) and some other characters ($, !, etc.). For example, one input may be:\n",
    "\n",
    "'sea!$hells3'\n",
    "\n",
    "Can you reverse only the alphabetical ones?\n",
    "'''\n",
    "\n",
    "string='sea!$hells3'\n",
    "print(len(string))\n",
    "def reverse_only_alphabetical(string):\n",
    "    '''\n",
    "    A bit of tinkering leads to the correct solution.\n",
    "    '''\n",
    "    reverse=[]\n",
    "    for i in range(len(string)):\n",
    "        reverse.append(string[i])\n",
    "    for l in range(len(string)//2):\n",
    "        if reverse[l].isalpha() and reverse[len(reverse)-l-1].isalpha():\n",
    "            reverse[l],reverse[len(reverse)-l-1]=reverse[len(reverse)-l-1],reverse[l]\n",
    "    print(reverse)\n",
    "    return ''.join(reverse)\n",
    "\n",
    "answer='sll!$ehaes3'\n",
    "reverse=reverse_only_alphabetical(string)\n",
    "print(reverse)\n",
    "assert reverse==answer"
   ]
  },
  {
   "cell_type": "code",
   "execution_count": 47,
   "id": "1b474aed",
   "metadata": {},
   "outputs": [],
   "source": [
    "#FizzBuzz\n",
    "'''\n",
    "Fizz Buzz is a classic interview question that apparently many experienced engineering candidates often can't solve! Let's cover it today.\n",
    "\n",
    "We're given a number in the form of an integer n.\n",
    "\n",
    "Write a function that returns the string representation of all numbers from 1 to n based on the following rules:\n",
    "\n",
    "If it's a multiple of 3, represent it as \"fizz\".\n",
    "\n",
    "If it's a multiple of 5, represent it as \"buzz\".\n",
    "\n",
    "If it's a multiple of both 3 and 5, represent it as \"fizzbuzz\".\n",
    "\n",
    "If it's neither, just return the number itself.\n",
    "'''\n",
    "\n",
    "def fizzbuzz(n):\n",
    "    fizzbuzz_string=''\n",
    "    for i in range(1,n+1):\n",
    "        if i%3==0 and i%5==0:\n",
    "            fizzbuzz_string+='fizzbuzz'\n",
    "        elif i%3==0:\n",
    "            fizzbuzz_string+='fizz'\n",
    "        elif i%5==0:\n",
    "            fizzbuzz_string+='buzz'\n",
    "        else:\n",
    "            fizzbuzz_string+=str(i)\n",
    "    return fizzbuzz_string\n",
    "\n",
    "output=fizzbuzz(15)\n",
    "assert output=='12fizz4buzzfizz78fizzbuzz11fizz1314fizzbuzz'"
   ]
  },
  {
   "cell_type": "code",
   "execution_count": 42,
   "id": "8f4519f1",
   "metadata": {},
   "outputs": [
    {
     "data": {
      "text/plain": [
       "['green', 'red', 'yellow']"
      ]
     },
     "execution_count": 42,
     "metadata": {},
     "output_type": "execute_result"
    }
   ],
   "source": [
    "#Return intersection of two arrays\n",
    "#Time complexity O(n+m)\n",
    "#Space complexity O(max(n,m))\n",
    "\n",
    "arr1=[\"green\",\"orage\",\"blue\",\"red\",\"yellow\"]\n",
    "arr2=[\"black\",\"green\",\"red\",\"purple\",\"yellow\",\"pink\"]\n",
    "\n",
    "def intersection(arr1,arr2):\n",
    "    '''\n",
    "    Hashing based linear implementation.\n",
    "    Interesting note el in lookup_table.keys()\n",
    "    would still be O(1)-- https://stackoverflow.com/questions/17539367/python-dictionary-keys-in-complexity\n",
    "    '''\n",
    "    if len(arr1)<len(arr2):\n",
    "        arr1,arr2=arr2,arr1\n",
    "    lookup_table={}\n",
    "    for el in arr1:\n",
    "        lookup_table[el]=0\n",
    "    intersection=[]\n",
    "    for el in arr2:\n",
    "        if el in lookup_table:\n",
    "            intersection.append(el)\n",
    "    return intersection\n",
    "\n",
    "intersection(arr1,arr2)"
   ]
  },
  {
   "cell_type": "code",
   "execution_count": 38,
   "id": "2217adef",
   "metadata": {},
   "outputs": [
    {
     "data": {
      "text/plain": [
       "'gfedcba'"
      ]
     },
     "execution_count": 38,
     "metadata": {},
     "output_type": "execute_result"
    }
   ],
   "source": [
    "#Reverse string, don't use string[::-1], O(1) memory\n",
    "\n",
    "string=\"abcdefg\"\n",
    "\n",
    "def reverse(string):\n",
    "    '''\n",
    "    A clever two pointer technique is needed to reverse the string in place.\n",
    "    In addition, lists of letters have to be used as String is an immutable data type.\n",
    "    https://towardsdatascience.com/two-pointer-approach-python-code-f3986b602640\n",
    "    '''\n",
    "    string_lets=[]\n",
    "    for l in string:\n",
    "        string_lets+=[l]\n",
    "    from_start_ind=0\n",
    "    for from_end_ind in range(len(string_lets)//2):\n",
    "        string_lets[from_start_ind],string_lets[len(string_lets)-from_end_ind-1]=string_lets[len(string_lets)-from_end_ind-1],string_lets[from_start_ind]\n",
    "        from_start_ind+=1    \n",
    "    return ''.join(string_lets)\n",
    "    \n",
    "reverse(string)"
   ]
  }
 ],
 "metadata": {
  "kernelspec": {
   "display_name": "Python 3 (ipykernel)",
   "language": "python",
   "name": "python3"
  },
  "language_info": {
   "codemirror_mode": {
    "name": "ipython",
    "version": 3
   },
   "file_extension": ".py",
   "mimetype": "text/x-python",
   "name": "python",
   "nbconvert_exporter": "python",
   "pygments_lexer": "ipython3",
   "version": "3.9.13"
  }
 },
 "nbformat": 4,
 "nbformat_minor": 5
}
