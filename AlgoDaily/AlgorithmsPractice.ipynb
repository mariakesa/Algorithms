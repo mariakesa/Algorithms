{
 "cells": [
  {
   "cell_type": "code",
   "execution_count": 5,
   "metadata": {},
   "outputs": [
    {
     "name": "stdout",
     "output_type": "stream",
     "text": [
      "{'a': 3, 's': 3, 'd': 3, 'f': 3, 'j': 1, 'n': 3, 'u': 1, 'l': 1}\n",
      "8\n",
      "j\n"
     ]
    },
    {
     "data": {
      "text/plain": [
       "'j'"
      ]
     },
     "execution_count": 5,
     "metadata": {},
     "output_type": "execute_result"
    }
   ],
   "source": [
    "#Find first non-repeating character\n",
    "string='asdfasdfjasdfnunnl'\n",
    "\n",
    "def first_non_repeat(string):\n",
    "    times_dict={}\n",
    "    position_dict={}\n",
    "    ind=0\n",
    "    for letter in string:\n",
    "        if letter in times_dict.keys():\n",
    "            times_dict[letter]+=1\n",
    "        else:\n",
    "            times_dict[letter]=1\n",
    "        position_dict[letter]=ind\n",
    "        ind+=1\n",
    "    print(times_dict)\n",
    "    minimum=position_dict[string[0]]\n",
    "    for key in times_dict.keys():\n",
    "        if times_dict[key]==1 and position_dict[key]<minimum:\n",
    "            minimum=position_dict[key]\n",
    "    print(minimum)\n",
    "    print(string[minimum])\n",
    "    return string[minimum]\n",
    "    \n",
    "first_non_repeat(string)\n",
    "\n",
    "string1='asdfasdfjasdfnunnl'\n",
    "string2=''\n",
    "string3='aabb'\n",
    "#Rasmus\n",
    "def first_non_repeat(string):\n",
    "    # Original ASCII character map had 128 characters\n",
    "    # -1 means not in string, >=1000 means multiple occurrences\n",
    "    first_occurrence = [-1] * 128\n",
    "    for position, letter in enumerate(string):\n",
    "        if first_occurrence[ord(letter)] >= 0:\n",
    "            first_occurrence[ord(letter)] = 1000\n",
    "        else:\n",
    "            first_occurrence[ord(letter)] = position\n",
    "    first = 1000\n",
    "    for position in first_occurrence:\n",
    "        if -1 < position < first:\n",
    "            first = position\n",
    "    if -1 < first < 1000:\n",
    "        return string[first]\n",
    "    return ''\n",
    "\n",
    "print(first_non_repeat(string1))\n",
    "print(first_non_repeat(string2))\n",
    "print(first_non_repeat(string3))"
   ]
  },
  {
   "cell_type": "code",
   "execution_count": 32,
   "metadata": {},
   "outputs": [
    {
     "name": "stdout",
     "output_type": "stream",
     "text": [
      "ts\n",
      "ts\n",
      "{1: ['ts'], 0: 'ts'}\n",
      "True\n",
      "tsf\n",
      "ts\n",
      "ts\n",
      "{1: ['tsf', 'ts'], 0: 'ts'}\n",
      "False\n"
     ]
    }
   ],
   "source": [
    "#Dollar Sign Deletion\n",
    "inpt0=['f$st','st']\n",
    "inpt1=['ff$st','f$st','st']\n",
    "\n",
    "def dollar_sign_deletion(inpt):\n",
    "    deleted_strings=[]\n",
    "    dollar_dict={}\n",
    "    dollar_dict[1]=[]\n",
    "    dollar_dict[0]=0\n",
    "    for string in inpt:\n",
    "        reversed_string=string[::-1]\n",
    "        is_dollar=0\n",
    "        deleted_string=''\n",
    "        ind=0\n",
    "        while ind<len(reversed_string):\n",
    "            if reversed_string[ind]=='$':\n",
    "                ind+=2\n",
    "                is_dollar=1\n",
    "            else:\n",
    "                deleted_string+=reversed_string[ind]\n",
    "                ind+=1\n",
    "        print(deleted_string)\n",
    "        if is_dollar==1:\n",
    "            dollar_dict[1].append(deleted_string)\n",
    "        else:\n",
    "            dollar_dict[0]=reversed_string\n",
    "    print(dollar_dict)\n",
    "    #Final solution\n",
    "    is_valid=True\n",
    "    for string in dollar_dict[1]:\n",
    "        if string!=dollar_dict[0]:\n",
    "            is_valid=False\n",
    "    return is_valid\n",
    "\n",
    "#Rasmus\n",
    "def dollar_sign_deletion(inpt):\n",
    "    indices = [len(s)-1 for s in inpt]\n",
    "    while True:\n",
    "        # check this character in every string against the first string\n",
    "        for string_idx in range(len(inpt)):\n",
    "            if inpt[string_idx][indices[string_idx]] != inpt[0][indices[0]]:\n",
    "                return False\n",
    "        # move indices\n",
    "        for string_idx in range(len(inpt)):\n",
    "            # move until valid character or start of string\n",
    "            indices[string_idx] -= 1\n",
    "            while indices[string_idx] >= 0 and inpt[string_idx][indices[string_idx]] == '$':\n",
    "                indices[string_idx] -= 2\n",
    "        if all(i == -1 for i in indices):\n",
    "            return True\n",
    "        if any(i < 0 for i in indices):\n",
    "            return False\n",
    "        \n",
    "        \n",
    "print(dollar_sign_deletion(inpt0))\n",
    "print(dollar_sign_deletion(inpt1))\n"
   ]
  },
  {
   "cell_type": "code",
   "execution_count": 14,
   "metadata": {},
   "outputs": [
    {
     "name": "stdout",
     "output_type": "stream",
     "text": [
      "6\n",
      "6\n"
     ]
    },
    {
     "data": {
      "text/plain": [
       "6"
      ]
     },
     "execution_count": 14,
     "metadata": {},
     "output_type": "execute_result"
    }
   ],
   "source": [
    "#Sum digits until one\n",
    "#The task is to sum individual digits in a number until only one digit remains\n",
    "\n",
    "digit=49128\n",
    "\n",
    "def sum_until_one(digit):\n",
    "    digit_string=str(digit)\n",
    "    solution=0\n",
    "    while len(digit_string)>1:\n",
    "        one=int(digit_string[0])\n",
    "        two=int(digit_string[1])\n",
    "        sm=one+two\n",
    "        if len(str(sm))>1:\n",
    "            one=int(str(sm)[0])\n",
    "            two=int(str(sm)[1])\n",
    "            sm=one+two\n",
    "        digit_string=str(sm)+digit_string[2:]\n",
    "        solution=sm\n",
    "    return solution\n",
    "\n",
    "print(sum_until_one(digit))\n",
    "\n",
    "#recursive\n",
    "def sum_until_one(number):\n",
    "    if number < 10:\n",
    "        return number\n",
    "    solution=0\n",
    "    for d in str(number):\n",
    "        solution += int(d)\n",
    "    return sum_until_one(solution)\n",
    "\n",
    "print(sum_until_one(digit))\n",
    "\n",
    "#List comprehension\n",
    "sum([int(d) for d in str(sum([int(d) for d in str(digit)]))])"
   ]
  },
  {
   "cell_type": "code",
   "execution_count": 10,
   "metadata": {},
   "outputs": [
    {
     "data": {
      "text/plain": [
       "[2]"
      ]
     },
     "execution_count": 10,
     "metadata": {},
     "output_type": "execute_result"
    }
   ],
   "source": [
    "#Array intersection\n",
    "\n",
    "array1=[1,2,2,1]\n",
    "array2=[2,2]\n",
    "def intersection(array1,array2):\n",
    "    hashtable1={}\n",
    "    hashtable2={}\n",
    "    #Get rid of duplicates\n",
    "    for j in array1:\n",
    "        hashtable1[j]=0\n",
    "    for j in array2:\n",
    "        hashtable2[j]=1\n",
    "    sol_lst=[]\n",
    "    for j in hashtable1.keys():\n",
    "        if j in hashtable2.keys():\n",
    "            sol_lst.append(j)\n",
    "    return sol_lst\n",
    "\n",
    "intersection(array1,array2)"
   ]
  },
  {
   "cell_type": "code",
   "execution_count": 8,
   "metadata": {},
   "outputs": [
    {
     "name": "stdout",
     "output_type": "stream",
     "text": [
      "4\n",
      "J\n",
      "4\n",
      "a\n",
      "3\n",
      "k\n",
      "2\n",
      "e\n",
      "1\n"
     ]
    },
    {
     "data": {
      "text/plain": [
       "['e', 'k', 'a', 'J']"
      ]
     },
     "execution_count": 8,
     "metadata": {},
     "output_type": "execute_result"
    }
   ],
   "source": [
    "#Reverse a string\n",
    "\n",
    "string='Jake'\n",
    "\n",
    "def reverse(string):\n",
    "    str_len=len(string)\n",
    "    print(str_len)\n",
    "    new_string=[0]*str_len\n",
    "    for letter_ind in range(0,str_len):\n",
    "        print(string[letter_ind])\n",
    "        print(str_len-letter_ind)\n",
    "        new_string[letter_ind]=string[str_len-letter_ind-1]\n",
    "    return new_string\n",
    "\n",
    "reverse(string)"
   ]
  },
  {
   "cell_type": "code",
   "execution_count": 10,
   "metadata": {},
   "outputs": [
    {
     "name": "stdout",
     "output_type": "stream",
     "text": [
      "0 1\n",
      "[1, 0, 2, 0, 4, 0]\n",
      "1 0\n",
      "[1, 0, 2, 0, 4, 0]\n",
      "1 2\n",
      "[1, 2, 0, 4, 0, 0]\n",
      "2 0\n",
      "[1, 2, 0, 4, 0, 0]\n",
      "2 4\n",
      "[1, 2, 4, 0, 0, 0]\n",
      "3 0\n",
      "[1, 2, 4, 0, 0, 0]\n",
      "3 0\n",
      "[1, 2, 4, 0, 0, 0]\n",
      "3 0\n",
      "[1, 2, 4, 0, 0, 0]\n",
      "3 0\n",
      "[1, 2, 4, 0, 0, 0]\n",
      "3 0\n",
      "[1, 2, 4, 0, 0, 0]\n",
      "4 0\n",
      "[1, 2, 4, 0, 0, 0]\n",
      "5 0\n",
      "[1, 2, 4, 0, 0, 0]\n",
      "[1, 2, 4, 0, 0, 0]\n"
     ]
    }
   ],
   "source": [
    "#ZerosToEnd\n",
    "lst=[1, 0, 2, 0, 4, 0]\n",
    "\n",
    "current_ind=0\n",
    "zeros_cntr=0\n",
    "while current_ind<len(lst):\n",
    "    print(current_ind,lst[current_ind])\n",
    "    print(lst)\n",
    "    if lst[current_ind]==0 and zeros_cntr<len(lst):\n",
    "        lst.pop(current_ind)\n",
    "        lst.append(0)\n",
    "        zeros_cntr+=1\n",
    "    else:\n",
    "        current_ind+=1\n",
    "        \n",
    "print(lst)"
   ]
  },
  {
   "cell_type": "code",
   "execution_count": 20,
   "metadata": {},
   "outputs": [
    {
     "name": "stdout",
     "output_type": "stream",
     "text": [
      "0\n",
      "1\n",
      "1\n",
      "2\n",
      "2\n",
      "3\n",
      "3\n",
      "4\n",
      "4\n",
      "5\n",
      "5\n",
      "6\n",
      "6\n",
      "7\n",
      "6 5\n"
     ]
    }
   ],
   "source": [
    "#Bottom Left Node Value\n",
    "#Solve via exhaustive search and keeping track of the best depth of left most node\n",
    "class BST:\n",
    "    def __init__(self, value,left,right):\n",
    "        self.value = value\n",
    "        self.left = left\n",
    "        self.right = right\n",
    "\n",
    "\n",
    "seven=BST(value=7, left=None,right=None)\n",
    "six=BST(value=6,left=None,right=None)\n",
    "five=BST(value=5, left=None,right=None)\n",
    "four=BST(value=4,left=None,right=None)\n",
    "three=BST(value=3, left=four, right=five)\n",
    "two=BST(value=2, left=six, right=seven)\n",
    "one=BST(value=1,left=two, right=three)\n",
    "\n",
    "class Answer:\n",
    "    def __init__(self, node, level):\n",
    "        self.node = node\n",
    "        self.level = level\n",
    "\n",
    "\n",
    "queue=[one]\n",
    "looking_for_this_node=Answer(one,0)\n",
    "d=0\n",
    "while queue:\n",
    "    node=queue.pop()\n",
    "    print(d)\n",
    "    if node.left!=None:\n",
    "        queue.append(node.left)\n",
    "        looking_for_this_node=Answer(node.left, d+1)\n",
    "    if node.right!=None:\n",
    "        queue.append(node.right)\n",
    "    d+=1\n",
    "    print(d)\n",
    "print(looking_for_this_node.node.value, looking_for_this_node.level)"
   ]
  },
  {
   "cell_type": "code",
   "execution_count": null,
   "metadata": {},
   "outputs": [],
   "source": []
  },
  {
   "cell_type": "code",
   "execution_count": 8,
   "metadata": {},
   "outputs": [
    {
     "name": "stdout",
     "output_type": "stream",
     "text": [
      "[11, 32, 36]\n",
      "False\n"
     ]
    }
   ],
   "source": [
    "#Contiguous subarray sum\n",
    "import numpy as np\n",
    "\n",
    "lst=[1, 2, 3,4]\n",
    "target=5\n",
    "lst=[11, 21, 4]\n",
    "target=9\n",
    "cs=list(np.cumsum(lst))\n",
    "print(cs)\n",
    "answer=False\n",
    "for ind in range(len(cs)):\n",
    "    for s in range(len(cs)):\n",
    "        if cs[s]-cs[ind]==target:\n",
    "            answer=True\n",
    "print(answer)"
   ]
  },
  {
   "cell_type": "code",
   "execution_count": 42,
   "metadata": {},
   "outputs": [
    {
     "name": "stdout",
     "output_type": "stream",
     "text": [
      "prime_lst [2]\n",
      "n_lst [3, 4, 5, 6, 7, 8, 9, 10, 11, 12, 13, 14, 15]\n",
      "prime_lst [2, 3]\n",
      "n_lst [3, 5, 7, 9, 11, 13, 15]\n",
      "prime_lst [2, 3, 5]\n",
      "n_lst [5, 7, 11, 13]\n",
      "prime_lst [2, 3, 5, 7]\n",
      "n_lst [7, 11, 13]\n",
      "prime_lst [2, 3, 5, 7, 11]\n",
      "n_lst [11, 13]\n",
      "prime_lst [2, 3, 5, 7, 11, 13]\n",
      "n_lst [13]\n",
      "41\n"
     ]
    }
   ],
   "source": [
    "# Sum of primes up to give number n\n",
    "\n",
    "def delete_prime_multiple(prime,n_lst):\n",
    "    ind=0\n",
    "    aux_lst=n_lst.copy()\n",
    "    for number in range(0,len(aux_lst)):\n",
    "        if aux_lst[number]%prime==0:\n",
    "            n_lst.remove(aux_lst[number])\n",
    "    return n_lst\n",
    "            \n",
    "def sum_of_primes(n):\n",
    "    if n==0:\n",
    "        return 0\n",
    "    if n==1:\n",
    "        return 1\n",
    "    if n==2:\n",
    "        return 3\n",
    "    #Start from prime number 2 to seed the prime list\n",
    "    n_lst=list(range(3,n+1))\n",
    "    prime_lst=[2]\n",
    "    p_ind=0\n",
    "    while n_lst is not []:\n",
    "        print('prime_lst',prime_lst)\n",
    "        print('n_lst',n_lst)\n",
    "        n_lst=delete_prime_multiple(prime_lst[p_ind],n_lst)\n",
    "        try:\n",
    "            prime_lst.append(n_lst[0])\n",
    "            p_ind+=1\n",
    "        except:\n",
    "            return sum(prime_lst)     \n",
    "\n",
    "n=15\n",
    "sm=sum_of_primes(n)\n",
    "print(sm)\n",
    "#Answer,primes= 2, 3, 5, 7, 11, 13, sum=41"
   ]
  },
  {
   "cell_type": "code",
   "execution_count": 55,
   "metadata": {},
   "outputs": [
    {
     "name": "stdout",
     "output_type": "stream",
     "text": [
      "[19]\n"
     ]
    }
   ],
   "source": [
    "#Detect a substring\n",
    "\n",
    "def detect_substring(string,substring):\n",
    "    locations=[]\n",
    "    for ind in range(0,len(string)-len(substring)):\n",
    "        if string[ind:ind+len(substring)]==substring:\n",
    "            locations.append(ind)\n",
    "    return locations\n",
    "\n",
    "string='home is where your cat is'\n",
    "substring='cat'\n",
    "locations=detect_substring(string,substring)\n",
    "print(locations)"
   ]
  },
  {
   "cell_type": "code",
   "execution_count": null,
   "metadata": {},
   "outputs": [],
   "source": []
  },
  {
   "cell_type": "code",
   "execution_count": null,
   "metadata": {},
   "outputs": [],
   "source": []
  },
  {
   "cell_type": "code",
   "execution_count": null,
   "metadata": {},
   "outputs": [],
   "source": []
  },
  {
   "cell_type": "code",
   "execution_count": 43,
   "metadata": {},
   "outputs": [
    {
     "name": "stdout",
     "output_type": "stream",
     "text": [
      "4\n"
     ]
    }
   ],
   "source": [
    "#Sum digits until one\n",
    "\n",
    "def sum_until_one(digit):\n",
    "    str_digit=str(digit)\n",
    "    single_digit=False\n",
    "    sm=0\n",
    "    while not single_digit:\n",
    "        for i in str_digit:\n",
    "            sm+=int(i)\n",
    "        if len(str(sm))==1:\n",
    "            single_digit=True\n",
    "            return sm\n",
    "        else:\n",
    "            str_digit=str(sm)\n",
    "            sm=0\n",
    "sm=sum_until_one(49)\n",
    "print(sm)\n"
   ]
  },
  {
   "cell_type": "code",
   "execution_count": null,
   "metadata": {},
   "outputs": [],
   "source": [
    "#Binary tree in-order traversal\n",
    "\n"
   ]
  },
  {
   "cell_type": "code",
   "execution_count": 36,
   "metadata": {},
   "outputs": [
    {
     "name": "stdout",
     "output_type": "stream",
     "text": [
      "[None, None, None, None, None, None, [('Maria', 100)], None, None, None, None]\n",
      "[None, None, [('Maria_', 300)], None, None, None, [('Maria', 100)], None, None, None, None]\n",
      "[None, None, [('Maria_', 300)], None, None, None, [('Maria', 100), ('Maari', 150)], None, None, None, None]\n",
      "150\n"
     ]
    }
   ],
   "source": [
    "#Implement a hash map\n",
    "\n",
    "class HashMap():\n",
    "    def __init__(self,n_buckets):\n",
    "        self.n_buckets=n_buckets\n",
    "        self.hash_table=[None]*self.n_buckets\n",
    "    \n",
    "    def hashStr(self,string):\n",
    "        #print(chr(string))\n",
    "        finalHash=0\n",
    "        for i in range(len(string)):\n",
    "            finalHash+=ord(string[i])\n",
    "        return finalHash\n",
    "        \n",
    "    def get_element(self,key):\n",
    "        hsh=self.hashStr(key)\n",
    "        ind=hsh%self.n_buckets\n",
    "        if self.hash_table[ind]==None:\n",
    "            return 'No key in hashtable!'\n",
    "        else:\n",
    "            for entry in self.hash_table[ind]:\n",
    "                if entry[0]==key:\n",
    "                    return entry[1]\n",
    "    \n",
    "    \n",
    "    def set_element(self,key,value):\n",
    "        hsh=self.hashStr(key)\n",
    "        ind=hsh%self.n_buckets\n",
    "        if self.hash_table[ind]==None:\n",
    "            self.hash_table[ind]=[(key,value)]\n",
    "        else:\n",
    "            self.hash_table[ind].append((key,value))\n",
    "        print(self.hash_table)    \n",
    "    \n",
    "hm=HashMap(11)\n",
    "hm.hashStr('Maria')\n",
    "hm.set_element('Maria',100)\n",
    "hm.set_element('Maria_',300)\n",
    "hm.set_element('Maari',150)\n",
    "retr=hm.get_element('Maari')\n",
    "print(retr)"
   ]
  },
  {
   "cell_type": "code",
   "execution_count": null,
   "metadata": {},
   "outputs": [],
   "source": []
  },
  {
   "cell_type": "code",
   "execution_count": 8,
   "metadata": {},
   "outputs": [
    {
     "name": "stdout",
     "output_type": "stream",
     "text": [
      "9\n"
     ]
    }
   ],
   "source": [
    "#Single lonely number\n",
    "n_lst=[1,4,7,9,4,7,1]\n",
    "\n",
    "def XOR(n_lst):\n",
    "    sm=0\n",
    "    for n in n_lst:\n",
    "        sm=sm^n\n",
    "    return sm\n",
    "answer=XOR(n_lst)\n",
    "print(answer)"
   ]
  },
  {
   "cell_type": "code",
   "execution_count": 41,
   "metadata": {},
   "outputs": [
    {
     "name": "stdout",
     "output_type": "stream",
     "text": [
      "True\n",
      "True\n",
      "False\n",
      "True\n"
     ]
    },
    {
     "data": {
      "text/plain": [
       "False"
      ]
     },
     "execution_count": 41,
     "metadata": {},
     "output_type": "execute_result"
    }
   ],
   "source": [
    "#Is power of three?\n",
    "#3**20=3486784401\n",
    "\n",
    "def convert_to_3_ary(nr):\n",
    "    m=nr\n",
    "    while m>1:\n",
    "        m=m/3\n",
    "        last=m\n",
    "    if m==1.0:\n",
    "        return True\n",
    "    else:\n",
    "        return False\n",
    "\n",
    "#Based on StackOverflow https://stackoverflow.com/questions/34559663/convert-decimal-to-ternarybase3-in-python\n",
    "def ternary(n):\n",
    "    if n == 0:\n",
    "        return False\n",
    "    if n == 1:\n",
    "        return True\n",
    "    nums = []\n",
    "    while n:\n",
    "        n, r = divmod(n, 3)\n",
    "        if r!=0:\n",
    "            return False\n",
    "        else:\n",
    "            return True\n",
    "        #nums.append(str(r))\n",
    "        \n",
    "    #nr_str=''.join(reversed(nums))\n",
    "    #print('Ternary reprsentation: ', nr_str)\n",
    "    #for three_digit in range(1,len(nr_str)):\n",
    "        #if three_digit==0:\n",
    "            #return False\n",
    "    #if nr_str[0]=='1':\n",
    "        #return True\n",
    "\n",
    "#0th power\n",
    "print(convert_to_3_ary(1))\n",
    "print(convert_to_3_ary(3486784401))\n",
    "print(convert_to_3_ary(3486784401577))\n",
    "print(ternary(3**9))\n",
    "ternary(23**8)\n"
   ]
  },
  {
   "cell_type": "code",
   "execution_count": 9,
   "metadata": {},
   "outputs": [
    {
     "name": "stdout",
     "output_type": "stream",
     "text": [
      "{4: 2, 2: 1}\n",
      "4\n",
      "{4: 2, 2: 2}\n",
      "No majority element!\n",
      "{4: 4, 2: 3, 1: 2}\n",
      "No majority element!\n"
     ]
    }
   ],
   "source": [
    "#Majority element\n",
    "\n",
    "\n",
    "def construct_count_dict(lst):\n",
    "    count_dict={}\n",
    "    for el in lst:\n",
    "        if el in count_dict.keys():\n",
    "            count_dict[el]+=1\n",
    "        else:\n",
    "            count_dict[el]=1\n",
    "    return count_dict\n",
    "            \n",
    "def find_majority_el(lst):\n",
    "    count_dict=construct_count_dict(lst)\n",
    "    print(count_dict)\n",
    "    sm=len(lst)\n",
    "    for el in count_dict.keys():\n",
    "        if count_dict[el]/sm>0.5:\n",
    "            return el\n",
    "    return 'No majority element!'\n",
    "    \n",
    "lst=[4,2,4]    \n",
    "el=find_majority_el(lst)\n",
    "print(el)\n",
    "lst=[4,2,4,2]    \n",
    "el=find_majority_el(lst)\n",
    "print(el)\n",
    "lst=[4,2,4,2,1,4,1,2,4]    \n",
    "el=find_majority_el(lst)\n",
    "print(el)"
   ]
  },
  {
   "cell_type": "code",
   "execution_count": 12,
   "metadata": {},
   "outputs": [
    {
     "name": "stdout",
     "output_type": "stream",
     "text": [
      "This is not a palindrome!\n",
      "This is a palindrome!\n"
     ]
    }
   ],
   "source": [
    "#Is a palindrome?\n",
    "\n",
    "def reverse_string(string):\n",
    "    rev_str=[0]*len(string)\n",
    "    for l in range(len(string)):\n",
    "        rev_str[len(string)-l-1]=string[l]\n",
    "    rev_str=''.join(rev_str)\n",
    "    return rev_str\n",
    "\n",
    "def is_palindrome(string):\n",
    "    revstring=reverse_string(string)\n",
    "    if revstring==string:\n",
    "        print('This is a palindrome!')\n",
    "    else:\n",
    "        print('This is not a palindrome!')\n",
    "string='thisisnotapalindrome'\n",
    "is_palindrome(string)\n",
    "string='racecar'\n",
    "is_palindrome(string)"
   ]
  },
  {
   "cell_type": "code",
   "execution_count": 7,
   "metadata": {},
   "outputs": [
    {
     "ename": "SyntaxError",
     "evalue": "invalid syntax (<ipython-input-7-d5416c6126f0>, line 19)",
     "output_type": "error",
     "traceback": [
      "\u001b[0;36m  File \u001b[0;32m\"<ipython-input-7-d5416c6126f0>\"\u001b[0;36m, line \u001b[0;32m19\u001b[0m\n\u001b[0;31m    for hash1.keys():\u001b[0m\n\u001b[0m                    ^\u001b[0m\n\u001b[0;31mSyntaxError\u001b[0m\u001b[0;31m:\u001b[0m invalid syntax\n"
     ]
    }
   ],
   "source": [
    "#Are two strings anagrams of each other?\n",
    "\n",
    "def build_hasht(string):\n",
    "    hasht={}\n",
    "    for l in string:\n",
    "        if l not in hasht.keys():\n",
    "            hasht[l]=1\n",
    "        else:\n",
    "            hasht[l]+=1\n",
    "    return hasht\n",
    "\n",
    "def is_anagram_hash(string1,string2):\n",
    "    hash1=build_hasht(string1)\n",
    "    hash2=build_hasht(string2)\n",
    "    check_length=string1==string2\n",
    "    if check_lenght==False:\n",
    "        return False\n",
    "    else:\n",
    "        for hash1.keys():\n",
    "            if \n",
    " \n",
    "def is_anagram(string1,string2):\n",
    "    sortd1=sorted(string1)\n",
    "    sortd2=sorted(string2)\n",
    "    \n",
    "    if sortd1==sortd2:\n",
    "        return True\n",
    "    else:\n",
    "        return False\n",
    " \n",
    "string1=\"obama\"\n",
    "string2=\"obmma\"\n",
    "print(is_anagram(string1,string2))\n",
    "string1=\"cinema\"\n",
    "string2=\"iceman\"\n",
    "is_anagram(string1,string2)\n"
   ]
  },
  {
   "cell_type": "code",
   "execution_count": 35,
   "metadata": {},
   "outputs": [
    {
     "name": "stdout",
     "output_type": "stream",
     "text": [
      "11\n",
      "['s', 'l', 'l', '!', '$', 'e', 'h', 'a', 'e', 's', '3']\n",
      "sll!$ehaes3\n",
      "True\n"
     ]
    }
   ],
   "source": [
    "#Reverse-only-alphabetical-order\n",
    "string='sea!$hells3'\n",
    "def reverse_only_alphb(string):\n",
    "    print(len(string))\n",
    "    temp=string[::-1]\n",
    "    rev_str=[]\n",
    "    for j in temp:\n",
    "        if j.isalpha()==True:\n",
    "            rev_str.append(j)\n",
    "    z=0\n",
    "    for i in string:\n",
    "        if i.isalpha()==False:\n",
    "            rev_str.insert(z,i)\n",
    "        z+=1\n",
    "    print(rev_str)\n",
    "    answer_string=''.join(rev_str)\n",
    "    print(answer_string)\n",
    "    return answer_string\n",
    "answer_string=reverse_only_alphb(string)\n",
    "print(answer_string=='sll!$ehaes3')"
   ]
  },
  {
   "cell_type": "code",
   "execution_count": null,
   "metadata": {},
   "outputs": [],
   "source": []
  },
  {
   "cell_type": "code",
   "execution_count": 24,
   "metadata": {
    "scrolled": false
   },
   "outputs": [
    {
     "name": "stdout",
     "output_type": "stream",
     "text": [
      "0\n",
      "a bigger:  0 1\n",
      "[]\n",
      "equality!  1\n",
      "[1]\n",
      "equality!  2\n",
      "[1, 2]\n",
      "b bigger:  3 5\n",
      "[1, 2]\n",
      "b bigger:  3 5\n",
      "[1, 2]\n",
      "4\n",
      "a bigger:  4 6\n",
      "[1, 2]\n",
      "b bigger:  4 7\n",
      "[1, 2]\n",
      "equality!  7\n",
      "[1, 2, 7]\n"
     ]
    }
   ],
   "source": [
    "#Find the intersection of two sets\n",
    "\n",
    "#We perform a presorting step.\n",
    "\n",
    "a=[1,2,3,4,6,7]\n",
    "b=[0,1,2,5,7,8]\n",
    "\n",
    "solution=[]\n",
    "\n",
    "ptr_a=0\n",
    "ptr_b=0\n",
    "\n",
    "q=True\n",
    "while q==True:\n",
    "    if ptr_a>len(a)-1 or ptr_b>len(b)-1:\n",
    "        q=False\n",
    "    else:\n",
    "        #Three cases\n",
    "        if a[ptr_a]>b[ptr_b]:\n",
    "            print(ptr_a)\n",
    "            print('a bigger: ',ptr_a,a[ptr_a])\n",
    "            ptr_b+=1\n",
    "        elif a[ptr_a]<b[ptr_b]:\n",
    "            print('b bigger: ',ptr_b,b[ptr_b])\n",
    "            ptr_a+=1\n",
    "        else:\n",
    "            print('equality! ',a[ptr_a])\n",
    "            if solution!=[]:\n",
    "                if solution[-1]!=a[ptr_a]:\n",
    "                    solution.append(a[ptr_a])\n",
    "            else: \n",
    "                solution.append(a[ptr_a])\n",
    "            ptr_a+=1\n",
    "            ptr_b+=1\n",
    "        print(solution)"
   ]
  },
  {
   "cell_type": "code",
   "execution_count": 30,
   "metadata": {},
   "outputs": [
    {
     "name": "stdout",
     "output_type": "stream",
     "text": [
      "12fizz4buzzfizz78fizzbuzz11fizz1314fizzbuzz\n",
      "True\n"
     ]
    }
   ],
   "source": [
    "#Fizzbuzz\n",
    "\n",
    "n=15\n",
    "string=''\n",
    "for nr in range(1,n+1):\n",
    "    if nr%3==0 and nr%5!=0:\n",
    "        string+='fizz'\n",
    "    elif nr%5==0 and nr%3!=0:\n",
    "        string+='buzz'\n",
    "    elif nr%5==0 and nr%3==0:\n",
    "        string+='fizzbuzz'\n",
    "    else:\n",
    "        string+=str(nr)\n",
    "print(string)\n",
    "\n",
    "string_check='12fizz4buzzfizz78fizzbuzz11fizz1314fizzbuzz'\n",
    "print(string==string_check)"
   ]
  }
 ],
 "metadata": {
  "kernelspec": {
   "display_name": "Python 3",
   "language": "python",
   "name": "python3"
  },
  "language_info": {
   "codemirror_mode": {
    "name": "ipython",
    "version": 3
   },
   "file_extension": ".py",
   "mimetype": "text/x-python",
   "name": "python",
   "nbconvert_exporter": "python",
   "pygments_lexer": "ipython3",
   "version": "3.7.7"
  }
 },
 "nbformat": 4,
 "nbformat_minor": 4
}
