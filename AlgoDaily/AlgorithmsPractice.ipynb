{
 "cells": [
  {
   "cell_type": "code",
   "execution_count": 41,
   "metadata": {},
   "outputs": [
    {
     "name": "stdout",
     "output_type": "stream",
     "text": [
      "True\n",
      "True\n",
      "False\n",
      "True\n"
     ]
    },
    {
     "data": {
      "text/plain": [
       "False"
      ]
     },
     "execution_count": 41,
     "metadata": {},
     "output_type": "execute_result"
    }
   ],
   "source": [
    "#Is power of three?\n",
    "#3**20=3486784401\n",
    "\n",
    "def convert_to_3_ary(nr):\n",
    "    m=nr\n",
    "    while m>1:\n",
    "        m=m/3\n",
    "        last=m\n",
    "    if m==1.0:\n",
    "        return True\n",
    "    else:\n",
    "        return False\n",
    "\n",
    "#Based on StackOverflow https://stackoverflow.com/questions/34559663/convert-decimal-to-ternarybase3-in-python\n",
    "def ternary(n):\n",
    "    if n == 0:\n",
    "        return False\n",
    "    if n == 1:\n",
    "        return True\n",
    "    nums = []\n",
    "    while n:\n",
    "        n, r = divmod(n, 3)\n",
    "        if r!=0:\n",
    "            return False\n",
    "        else:\n",
    "            return True\n",
    "        #nums.append(str(r))\n",
    "        \n",
    "    #nr_str=''.join(reversed(nums))\n",
    "    #print('Ternary reprsentation: ', nr_str)\n",
    "    #for three_digit in range(1,len(nr_str)):\n",
    "        #if three_digit==0:\n",
    "            #return False\n",
    "    #if nr_str[0]=='1':\n",
    "        #return True\n",
    "\n",
    "#0th power\n",
    "print(convert_to_3_ary(1))\n",
    "print(convert_to_3_ary(3486784401))\n",
    "print(convert_to_3_ary(3486784401577))\n",
    "print(ternary(3**9))\n",
    "ternary(23**8)\n"
   ]
  },
  {
   "cell_type": "code",
   "execution_count": 9,
   "metadata": {},
   "outputs": [
    {
     "name": "stdout",
     "output_type": "stream",
     "text": [
      "{4: 2, 2: 1}\n",
      "4\n",
      "{4: 2, 2: 2}\n",
      "No majority element!\n",
      "{4: 4, 2: 3, 1: 2}\n",
      "No majority element!\n"
     ]
    }
   ],
   "source": [
    "#Majority element\n",
    "\n",
    "\n",
    "def construct_count_dict(lst):\n",
    "    count_dict={}\n",
    "    for el in lst:\n",
    "        if el in count_dict.keys():\n",
    "            count_dict[el]+=1\n",
    "        else:\n",
    "            count_dict[el]=1\n",
    "    return count_dict\n",
    "            \n",
    "def find_majority_el(lst):\n",
    "    count_dict=construct_count_dict(lst)\n",
    "    print(count_dict)\n",
    "    sm=len(lst)\n",
    "    for el in count_dict.keys():\n",
    "        if count_dict[el]/sm>0.5:\n",
    "            return el\n",
    "    return 'No majority element!'\n",
    "    \n",
    "lst=[4,2,4]    \n",
    "el=find_majority_el(lst)\n",
    "print(el)\n",
    "lst=[4,2,4,2]    \n",
    "el=find_majority_el(lst)\n",
    "print(el)\n",
    "lst=[4,2,4,2,1,4,1,2,4]    \n",
    "el=find_majority_el(lst)\n",
    "print(el)"
   ]
  },
  {
   "cell_type": "code",
   "execution_count": 12,
   "metadata": {},
   "outputs": [
    {
     "name": "stdout",
     "output_type": "stream",
     "text": [
      "This is not a palindrome!\n",
      "This is a palindrome!\n"
     ]
    }
   ],
   "source": [
    "#Is a palindrome?\n",
    "\n",
    "def reverse_string(string):\n",
    "    rev_str=[0]*len(string)\n",
    "    for l in range(len(string)):\n",
    "        rev_str[len(string)-l-1]=string[l]\n",
    "    rev_str=''.join(rev_str)\n",
    "    return rev_str\n",
    "\n",
    "def is_palindrome(string):\n",
    "    revstring=reverse_string(string)\n",
    "    if revstring==string:\n",
    "        print('This is a palindrome!')\n",
    "    else:\n",
    "        print('This is not a palindrome!')\n",
    "string='thisisnotapalindrome'\n",
    "is_palindrome(string)\n",
    "string='racecar'\n",
    "is_palindrome(string)"
   ]
  },
  {
   "cell_type": "code",
   "execution_count": 4,
   "metadata": {},
   "outputs": [
    {
     "name": "stdout",
     "output_type": "stream",
     "text": [
      "False\n"
     ]
    },
    {
     "data": {
      "text/plain": [
       "True"
      ]
     },
     "execution_count": 4,
     "metadata": {},
     "output_type": "execute_result"
    }
   ],
   "source": [
    "#Are two strings anagrams of each other?\n",
    "\n",
    "def build_hasht(string):\n",
    "    hasht={}\n",
    "    for l in string:\n",
    "        if l not in hasht.keys():\n",
    "            hasht[l]=1\n",
    "        else:\n",
    "            hasht[l]+=1\n",
    "    return hasht\n",
    "\n",
    "def is_anagram_hash(string1,string2):\n",
    "    hash1=build_hasht(string1)\n",
    "    hash2=build_hasht(string2)\n",
    "    check_length=string1==string2\n",
    "    if check_lenght==False:\n",
    "        return False\n",
    "    else:\n",
    "        for hash1.keys():\n",
    "            if \n",
    " \n",
    "def is_anagram(string1,string2):\n",
    "    sortd1=sorted(string1)\n",
    "    sortd2=sorted(string2)\n",
    "    \n",
    "    if sortd1==sortd2:\n",
    "        return True\n",
    "    else:\n",
    "        return False\n",
    " \n",
    "string1=\"obama\"\n",
    "string2=\"obmma\"\n",
    "print(is_anagram(string1,string2))\n",
    "string1=\"cinema\"\n",
    "string2=\"iceman\"\n",
    "is_anagram(string1,string2)\n"
   ]
  },
  {
   "cell_type": "code",
   "execution_count": 35,
   "metadata": {},
   "outputs": [
    {
     "name": "stdout",
     "output_type": "stream",
     "text": [
      "11\n",
      "['s', 'l', 'l', '!', '$', 'e', 'h', 'a', 'e', 's', '3']\n",
      "sll!$ehaes3\n",
      "True\n"
     ]
    }
   ],
   "source": [
    "#Reverse-only-alphabetical-order\n",
    "string='sea!$hells3'\n",
    "def reverse_only_alphb(string):\n",
    "    print(len(string))\n",
    "    temp=string[::-1]\n",
    "    rev_str=[]\n",
    "    for j in temp:\n",
    "        if j.isalpha()==True:\n",
    "            rev_str.append(j)\n",
    "    z=0\n",
    "    for i in string:\n",
    "        if i.isalpha()==False:\n",
    "            rev_str.insert(z,i)\n",
    "        z+=1\n",
    "    print(rev_str)\n",
    "    answer_string=''.join(rev_str)\n",
    "    print(answer_string)\n",
    "    return answer_string\n",
    "answer_string=reverse_only_alphb(string)\n",
    "print(answer_string=='sll!$ehaes3')"
   ]
  },
  {
   "cell_type": "code",
   "execution_count": null,
   "metadata": {},
   "outputs": [],
   "source": []
  },
  {
   "cell_type": "code",
   "execution_count": 24,
   "metadata": {
    "scrolled": false
   },
   "outputs": [
    {
     "name": "stdout",
     "output_type": "stream",
     "text": [
      "0\n",
      "a bigger:  0 1\n",
      "[]\n",
      "equality!  1\n",
      "[1]\n",
      "equality!  2\n",
      "[1, 2]\n",
      "b bigger:  3 5\n",
      "[1, 2]\n",
      "b bigger:  3 5\n",
      "[1, 2]\n",
      "4\n",
      "a bigger:  4 6\n",
      "[1, 2]\n",
      "b bigger:  4 7\n",
      "[1, 2]\n",
      "equality!  7\n",
      "[1, 2, 7]\n"
     ]
    }
   ],
   "source": [
    "#Find the intersection of two sets\n",
    "\n",
    "#We perform a presorting step.\n",
    "\n",
    "a=[1,2,3,4,6,7]\n",
    "b=[0,1,2,5,7,8]\n",
    "\n",
    "solution=[]\n",
    "\n",
    "ptr_a=0\n",
    "ptr_b=0\n",
    "\n",
    "q=True\n",
    "while q==True:\n",
    "    if ptr_a>len(a)-1 or ptr_b>len(b)-1:\n",
    "        q=False\n",
    "    else:\n",
    "        #Three cases\n",
    "        if a[ptr_a]>b[ptr_b]:\n",
    "            print(ptr_a)\n",
    "            print('a bigger: ',ptr_a,a[ptr_a])\n",
    "            ptr_b+=1\n",
    "        elif a[ptr_a]<b[ptr_b]:\n",
    "            print('b bigger: ',ptr_b,b[ptr_b])\n",
    "            ptr_a+=1\n",
    "        else:\n",
    "            print('equality! ',a[ptr_a])\n",
    "            if solution!=[]:\n",
    "                if solution[-1]!=a[ptr_a]:\n",
    "                    solution.append(a[ptr_a])\n",
    "            else: \n",
    "                solution.append(a[ptr_a])\n",
    "            ptr_a+=1\n",
    "            ptr_b+=1\n",
    "        print(solution)"
   ]
  },
  {
   "cell_type": "code",
   "execution_count": 30,
   "metadata": {},
   "outputs": [
    {
     "name": "stdout",
     "output_type": "stream",
     "text": [
      "12fizz4buzzfizz78fizzbuzz11fizz1314fizzbuzz\n",
      "True\n"
     ]
    }
   ],
   "source": [
    "#Fizzbuzz\n",
    "\n",
    "n=15\n",
    "string=''\n",
    "for nr in range(1,n+1):\n",
    "    if nr%3==0 and nr%5!=0:\n",
    "        string+='fizz'\n",
    "    elif nr%5==0 and nr%3!=0:\n",
    "        string+='buzz'\n",
    "    elif nr%5==0 and nr%3==0:\n",
    "        string+='fizzbuzz'\n",
    "    else:\n",
    "        string+=str(nr)\n",
    "print(string)\n",
    "\n",
    "string_check='12fizz4buzzfizz78fizzbuzz11fizz1314fizzbuzz'\n",
    "print(string==string_check)"
   ]
  }
 ],
 "metadata": {
  "kernelspec": {
   "display_name": "Python 3",
   "language": "python",
   "name": "python3"
  },
  "language_info": {
   "codemirror_mode": {
    "name": "ipython",
    "version": 3
   },
   "file_extension": ".py",
   "mimetype": "text/x-python",
   "name": "python",
   "nbconvert_exporter": "python",
   "pygments_lexer": "ipython3",
   "version": "3.8.3"
  }
 },
 "nbformat": 4,
 "nbformat_minor": 4
}
