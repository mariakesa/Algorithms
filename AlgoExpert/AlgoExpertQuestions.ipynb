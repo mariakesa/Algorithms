{
 "cells": [
  {
   "cell_type": "markdown",
   "metadata": {},
   "source": [
    "# Stuff for Binary Tree Diameter"
   ]
  },
  {
   "cell_type": "markdown",
   "metadata": {},
   "source": [
    "Adapted from:\n",
    "https://medium.com/@nhudinhtuan/binary-tree-traversals-cheat-sheet-for-coding-interviews-a71af9fe1dba"
   ]
  },
  {
   "cell_type": "code",
   "execution_count": 13,
   "metadata": {},
   "outputs": [],
   "source": [
    "class Node:\n",
    "    def __init__(self, value, left=None, right=None):\n",
    "        self.value = value\n",
    "        self.left = left\n",
    "        self.right = right\n",
    "three=Node(value=3,left=None,right=None)\n",
    "five=Node(value=5,left=None,right=None)\n",
    "four=Node(value=4,left=None,right=None)\n",
    "two=Node(value=2,left=four,right=five)\n",
    "root=Node(value=1,left=two,right=three)\n"
   ]
  },
  {
   "cell_type": "code",
   "execution_count": 4,
   "metadata": {},
   "outputs": [
    {
     "name": "stdout",
     "output_type": "stream",
     "text": [
      "2\n"
     ]
    }
   ],
   "source": [
    "print(root.left.value)"
   ]
  },
  {
   "cell_type": "code",
   "execution_count": 14,
   "metadata": {},
   "outputs": [],
   "source": [
    "def inorder_traversal_iterating(root):\n",
    "    result = []\n",
    "    # using stack\n",
    "    stack = []\n",
    "    current = root\n",
    "    while stack or current:\n",
    "        if current:\n",
    "            # traverse the left subtree\n",
    "            print(current.value)\n",
    "            stack.append(current)\n",
    "            current = current.left\n",
    "            continue\n",
    "        # visit node\n",
    "        print('gotten as deep as possible')\n",
    "        current = stack.pop()\n",
    "        result.append(current.value)\n",
    "        # traverse the right subtree\n",
    "        current = current.right\n",
    "    return result"
   ]
  },
  {
   "cell_type": "code",
   "execution_count": 15,
   "metadata": {},
   "outputs": [
    {
     "name": "stdout",
     "output_type": "stream",
     "text": [
      "1\n",
      "2\n",
      "4\n",
      "gotten as deep as possible\n",
      "gotten as deep as possible\n",
      "5\n",
      "gotten as deep as possible\n",
      "gotten as deep as possible\n",
      "3\n",
      "gotten as deep as possible\n"
     ]
    },
    {
     "data": {
      "text/plain": [
       "[4, 2, 5, 1, 3]"
      ]
     },
     "execution_count": 15,
     "metadata": {},
     "output_type": "execute_result"
    }
   ],
   "source": [
    "inorder_traversal_iterating(root)"
   ]
  }
 ],
 "metadata": {
  "kernelspec": {
   "display_name": "Python 3",
   "language": "python",
   "name": "python3"
  },
  "language_info": {
   "codemirror_mode": {
    "name": "ipython",
    "version": 3
   },
   "file_extension": ".py",
   "mimetype": "text/x-python",
   "name": "python",
   "nbconvert_exporter": "python",
   "pygments_lexer": "ipython3",
   "version": "3.7.7"
  }
 },
 "nbformat": 4,
 "nbformat_minor": 4
}
