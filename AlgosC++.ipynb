{
 "cells": [
  {
   "cell_type": "code",
   "execution_count": null,
   "metadata": {},
   "outputs": [],
   "source": [
    "/*Run c++ code in jupyter notebook https://www.learnopencv.com/xeus-cling-run-c-code-in-jupyter-notebook/*/"
   ]
  },
  {
   "cell_type": "markdown",
   "metadata": {},
   "source": [
    "# Merge Sort"
   ]
  },
  {
   "cell_type": "code",
   "execution_count": 1,
   "metadata": {},
   "outputs": [],
   "source": [
    "#include <list>\n",
    "#include <iostream>\n",
    "\n",
    "std::list<int> merge(std::list<int> left_arr, std::list<int> right_arr){\n",
    "    left_arr.push_front(0);\n",
    "    return left_arr;\n",
    "}\n",
    "\n",
    "\n"
   ]
  },
  {
   "cell_type": "code",
   "execution_count": 2,
   "metadata": {},
   "outputs": [
    {
     "name": "stdout",
     "output_type": "stream",
     "text": [
      "123"
     ]
    }
   ],
   "source": [
    "std::list<int> left_arr={1,2,3};\n",
    "std::list<int> right_arr={4,5,6};\n",
    "\n",
    "auto a=merge(left_arr,right_arr);\n",
    "\n",
    "for(const auto& element : left_arr){\n",
    "    std::cout<<element;\n",
    "};"
   ]
  }
 ],
 "metadata": {
  "kernelspec": {
   "display_name": "C++11",
   "language": "C++11",
   "name": "xcpp11"
  },
  "language_info": {
   "codemirror_mode": "text/x-c++src",
   "file_extension": ".cpp",
   "mimetype": "text/x-c++src",
   "name": "c++",
   "version": "11"
  }
 },
 "nbformat": 4,
 "nbformat_minor": 4
}
