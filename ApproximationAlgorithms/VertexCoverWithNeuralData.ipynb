{
 "cells": [
  {
   "cell_type": "code",
   "execution_count": 14,
   "metadata": {},
   "outputs": [],
   "source": [
    "import sys\n",
    "import numpy as np\n",
    "from scipy.stats import zscore\n",
    "import matplotlib.pyplot as plt"
   ]
  },
  {
   "cell_type": "code",
   "execution_count": 10,
   "metadata": {
    "scrolled": true
   },
   "outputs": [
    {
     "name": "stdout",
     "output_type": "stream",
     "text": [
      "Shape of the data matrix, neurons by timepoints: (18795, 30766)\n"
     ]
    }
   ],
   "source": [
    "data_path='/media/maria/DATA1/Documents/data_for_suite2p/TX39/'\n",
    "dt=1\n",
    "spks= np.load(data_path+'spks.npy')\n",
    "print('Shape of the data matrix, neurons by timepoints:',spks.shape)\n",
    "iframe = np.load(data_path+'iframe.npy') # iframe[n] is the microscope frame for the image frame n\n",
    "ivalid = iframe+dt<spks.shape[-1] # remove timepoints outside the valid time range\n",
    "iframe = iframe[ivalid]\n",
    "#Shuffle\n",
    "S = spks[:, iframe+dt]\n",
    "del spks"
   ]
  },
  {
   "cell_type": "code",
   "execution_count": 11,
   "metadata": {},
   "outputs": [],
   "source": [
    "sampled_neurons=np.random.randint(18795, size=1000)\n",
    "neurons=S[sampled_neurons,:]\n",
    "del S"
   ]
  },
  {
   "cell_type": "code",
   "execution_count": 12,
   "metadata": {},
   "outputs": [
    {
     "name": "stdout",
     "output_type": "stream",
     "text": [
      "(1000, 1000)\n"
     ]
    }
   ],
   "source": [
    "corr_coef=np.corrcoef(neurons)\n",
    "print(corr_coef.shape)"
   ]
  },
  {
   "cell_type": "code",
   "execution_count": 18,
   "metadata": {},
   "outputs": [
    {
     "data": {
      "image/png": "[encoded data removed]",
      "text/plain": [
       "<Figure size 432x288 with 1 Axes>"
      ]
     },
     "metadata": {
      "needs_background": "light"
     },
     "output_type": "display_data"
    }
   ],
   "source": [
    "plt.hist(corr_coef.flatten())\n",
    "median=np.median(corr_coef)"
   ]
  },
  {
   "cell_type": "code",
   "execution_count": null,
   "metadata": {},
   "outputs": [],
   "source": []
  }
 ],
 "metadata": {
  "kernelspec": {
   "display_name": "Python 3",
   "language": "python",
   "name": "python3"
  },
  "language_info": {
   "codemirror_mode": {
    "name": "ipython",
    "version": 3
   },
   "file_extension": ".py",
   "mimetype": "text/x-python",
   "name": "python",
   "nbconvert_exporter": "python",
   "pygments_lexer": "ipython3",
   "version": "3.7.4"
  }
 },
 "nbformat": 4,
 "nbformat_minor": 2
}
