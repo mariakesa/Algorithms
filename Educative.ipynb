{
 "cells": [
  {
   "cell_type": "code",
   "execution_count": 1,
   "metadata": {},
   "outputs": [
    {
     "data": {
      "text/plain": [
       "[10, 9, 8, 7, 6, 5, 4, 3, 2, 1]"
      ]
     },
     "execution_count": 1,
     "metadata": {},
     "output_type": "execute_result"
    }
   ],
   "source": [
    "#Reverse array with two pointers\n",
    "\n",
    "arr=[1,2,3,4,5,6,7,8,9,10]\n",
    "def reverseArray(arr):\n",
    "    pntr_l=0\n",
    "    pntr_r=-1\n",
    "    for i in range(len(arr)//2):\n",
    "        arr[pntr_l], arr[pntr_r] = arr[pntr_r], arr[pntr_l]\n",
    "        pntr_l+=1\n",
    "        pntr_r-=1\n",
    "    return arr\n",
    "\n",
    "reverseArray(arr)"
   ]
  }
 ],
 "metadata": {
  "kernelspec": {
   "display_name": ".venv",
   "language": "python",
   "name": "python3"
  },
  "language_info": {
   "codemirror_mode": {
    "name": "ipython",
    "version": 3
   },
   "file_extension": ".py",
   "mimetype": "text/x-python",
   "name": "python",
   "nbconvert_exporter": "python",
   "pygments_lexer": "ipython3",
   "version": "3.12.3"
  }
 },
 "nbformat": 4,
 "nbformat_minor": 2
}
