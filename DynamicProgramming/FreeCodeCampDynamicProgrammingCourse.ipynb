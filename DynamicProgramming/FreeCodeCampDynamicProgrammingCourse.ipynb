{
 "cells": [
  {
   "cell_type": "markdown",
   "metadata": {},
   "source": [
    "This notebook recodes the code examples from a dynamic programming course on FreeCodeCamp https://www.youtube.com/watch?v=oBt53YbR9Kk&ab_channel=freeCodeCamp.org into Python."
   ]
  },
  {
   "cell_type": "markdown",
   "metadata": {},
   "source": [
    "# Fibonacci"
   ]
  },
  {
   "cell_type": "code",
   "execution_count": 10,
   "metadata": {
    "scrolled": true
   },
   "outputs": [
    {
     "name": "stdout",
     "output_type": "stream",
     "text": [
      "5\n"
     ]
    }
   ],
   "source": [
    "def fib(n):\n",
    "    if n<=2:\n",
    "        return 1\n",
    "    return fib(n-1)+fib(n-2)\n",
    "    \n",
    "nr=fib(5)\n",
    "print(nr)"
   ]
  },
  {
   "cell_type": "code",
   "execution_count": 9,
   "metadata": {},
   "outputs": [
    {
     "name": "stdout",
     "output_type": "stream",
     "text": [
      "12586269025\n"
     ]
    }
   ],
   "source": [
    "def fib_memo(n,memo={}):\n",
    "    try:\n",
    "        return memo[n] \n",
    "    except:\n",
    "        pass\n",
    "    if n<=2:\n",
    "        return 1\n",
    "    memo[n]=fib_memo(n-1,memo)+fib_memo(n-2,memo)\n",
    "    return memo[n]\n",
    "\n",
    "nr=fib_memo(50)\n",
    "print(nr)"
   ]
  }
 ],
 "metadata": {
  "kernelspec": {
   "display_name": "Python 3",
   "language": "python",
   "name": "python3"
  },
  "language_info": {
   "codemirror_mode": {
    "name": "ipython",
    "version": 3
   },
   "file_extension": ".py",
   "mimetype": "text/x-python",
   "name": "python",
   "nbconvert_exporter": "python",
   "pygments_lexer": "ipython3",
   "version": "3.7.7"
  }
 },
 "nbformat": 4,
 "nbformat_minor": 4
}
