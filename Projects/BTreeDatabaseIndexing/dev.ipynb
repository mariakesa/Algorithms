{
 "cells": [
  {
   "cell_type": "code",
   "execution_count": 2,
   "id": "2937da20",
   "metadata": {},
   "outputs": [],
   "source": [
    "import pandas as pd"
   ]
  },
  {
   "cell_type": "code",
   "execution_count": 3,
   "id": "c45e5d29",
   "metadata": {},
   "outputs": [],
   "source": [
    "dat=pd.read_csv('/home/maria/Algorithms/Projects/BTreeDatabaseIndexing/cpr-data.csv')"
   ]
  },
  {
   "cell_type": "code",
   "execution_count": 4,
   "id": "abc534f7",
   "metadata": {},
   "outputs": [
    {
     "data": {
      "text/plain": [
       "Index(['REC_ID', 'COMPANY', 'DISPOSITION_TYPE', 'PRIMARY_CRIME_CODE',\n",
       "       'SWISS_BANK_PROGRAM', 'USAO', 'COUNTRY', 'FINANCIAL_INSTITUTION',\n",
       "       'CASE_NAME', 'CASE_ID', 'DOCKET_NO', 'DATE', 'JUDGMENT_DATE',\n",
       "       'PLEA_DATE', 'TICKER', 'US_PUBLIC_CO',\n",
       "       'ADDITIONAL_REGULATORY_FINE_OR_PAYMENT', 'COMMUNITY_SERVICE_OR_OTHER',\n",
       "       'FINE', 'FORFEITURE_DISGORGEMENT', 'PROBATION_LENGTH', 'RESTITUTION',\n",
       "       'TOTAL_PAYMENT', 'ACCEPTS_RESPONSIBILITY',\n",
       "       'AGREEMENT_REQUIRED_NEW_POSITIONS',\n",
       "       'AGREEMENT_REQUIRED_OUTSIDE_AUDITORS_OR_EXPERTS',\n",
       "       'CITATION_AND_DESCRIPTION', 'CIVIL_JUDGMENT_OR_SETTLEMENT',\n",
       "       'COMPLIANCE_PROGRAM_DESCRIPTION',\n",
       "       'COMPLIANCE_PROGRAM_REQUIRED_BY_AGREEMENT',\n",
       "       'COMPLIANCE_REQUIRED_BY_REGULATORS', 'CRIME_DESC',\n",
       "       'DESCRIPTION_OF_PAYMENTS',\n",
       "       'DOES_AGREEMENT_DISCUSS_REASONS_OR_RELEVENT_CONSIDERATIONS_FOR_LENIENCY',\n",
       "       'DOJ_CAN_UNILATERALLY_TERMINATE', 'FINE_CALCULATION_INCLUDED',\n",
       "       'FINE_DESCRIPTION', 'INDEP_MONITOR_REQUIRED',\n",
       "       'MUST_COMPORT_WITH_USSG_OR_AUDIT_COMPLIANCE', 'OTHER_AGREEMENT',\n",
       "       'OTHER_AGREEMENT_REQUIRED_GOVERNANCE_CHANGES',\n",
       "       'OTHER_COMPLIANCE_OFFICER_OR_CONSULTANT_REQUIRED',\n",
       "       'PARALLEL_CIVIL_SUIT', 'PARALLEL_REGULATORY_ACTION_OR_LOCAL_PROSECUTOR',\n",
       "       'PRE_AGREEMENT_COMPLIANCE', 'PRE_AGREEMENT_COMPLIANCE_DESCRIPTION',\n",
       "       'PRIVACY_WAIVER', 'REGULATORY_DISGORGEMENT_RESTITUTION_FORFEITURE',\n",
       "       'REGULATORY_FINE', 'REG_AGENCY', 'STATEMENT_OF_FACTS',\n",
       "       'TOTAL_REGULATORY', 'UNRELATED_TERMS', 'AGMT_YEAR', 'SOURCE', 'NOTES'],\n",
       "      dtype='object')"
      ]
     },
     "execution_count": 4,
     "metadata": {},
     "output_type": "execute_result"
    }
   ],
   "source": [
    "dat.columns"
   ]
  },
  {
   "cell_type": "code",
   "execution_count": 28,
   "id": "5d81e0aa",
   "metadata": {
    "scrolled": true
   },
   "outputs": [
    {
     "name": "stdout",
     "output_type": "stream",
     "text": [
      "0    2003-02-28\n",
      "1    2004-09-30\n",
      "2    2014-11-20\n",
      "3    2006-03-16\n",
      "4    2004-11-22\n",
      "5    2000-09-20\n",
      "6    1986-04-16\n",
      "7    2011-09-06\n",
      "8    2014-11-20\n",
      "Name: PLEA_DATE, dtype: object\n"
     ]
    }
   ],
   "source": [
    "dates=dat.loc[:8,'PLEA_DATE']\n",
    "dates=dates.fillna('1986-04-16')\n",
    "print(dates)"
   ]
  },
  {
   "cell_type": "code",
   "execution_count": 39,
   "id": "1901e36f",
   "metadata": {},
   "outputs": [],
   "source": [
    "#https://blog.boot.dev/computer-science/binary-search-tree-in-python/\n",
    "\n",
    "class Node():\n",
    "    def __init__(self,data):\n",
    "        self.data=data\n",
    "        self.LEFT=0\n",
    "        self.RIGHT=1\n",
    "        self.children=[None]*2\n",
    "        \n",
    "    def create_or_insert(self,child,data):\n",
    "        if self.children[child]:\n",
    "            self.children[child].insert(data)\n",
    "        else:\n",
    "            self.children[child]=Node(data)\n",
    "    \n",
    "    def insert(self,data):\n",
    "        if data < self.data:\n",
    "            self.create_or_insert(self.LEFT,data)\n",
    "        else:\n",
    "            self.create_or_insert(self.RIGHT,data)\n",
    "        \n",
    "            \n",
    "                "
   ]
  },
  {
   "cell_type": "code",
   "execution_count": 40,
   "id": "79a89557",
   "metadata": {},
   "outputs": [],
   "source": [
    "root=Node(dates[0])\n",
    "for j in range(1,len(dates)):\n",
    "    root.insert(dates[j])"
   ]
  },
  {
   "cell_type": "code",
   "execution_count": 49,
   "id": "fe110093",
   "metadata": {},
   "outputs": [
    {
     "name": "stdout",
     "output_type": "stream",
     "text": [
      "2014-11-20\n"
     ]
    }
   ],
   "source": [
    "print(root.children[1].children[1].data)"
   ]
  }
 ],
 "metadata": {
  "kernelspec": {
   "display_name": "Python 3 (ipykernel)",
   "language": "python",
   "name": "python3"
  },
  "language_info": {
   "codemirror_mode": {
    "name": "ipython",
    "version": 3
   },
   "file_extension": ".py",
   "mimetype": "text/x-python",
   "name": "python",
   "nbconvert_exporter": "python",
   "pygments_lexer": "ipython3",
   "version": "3.9.13"
  }
 },
 "nbformat": 4,
 "nbformat_minor": 5
}
