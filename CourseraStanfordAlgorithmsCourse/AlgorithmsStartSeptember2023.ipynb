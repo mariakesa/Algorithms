{
 "cells": [
  {
   "cell_type": "markdown",
   "id": "84413a18",
   "metadata": {},
   "source": [
    "## Quicksort"
   ]
  },
  {
   "cell_type": "code",
   "execution_count": null,
   "id": "5eab8035",
   "metadata": {},
   "outputs": [],
   "source": [
    "to_sort=[5,4,3,2,1,7,6,8,9,0]\n",
    "\n",
    "\n",
    "def choose_pivot(arr):\n",
    "    return 0\n",
    "\n",
    "def partition(arr, pivot_ind):\n",
    "    boundary_ind=1\n",
    "    pivot=arr[pivot_ind]\n",
    "    arr[0], arr[pivot_ind] = arr[pivot_ind], arr[0]\n",
    "    for traversal_ind in range(1, len(arr)):\n",
    "        if arr[traversal_ind]<pivot:\n",
    "            continue\n",
    "        elif arr[traversal_ind]>pivot:\n",
    "            \n",
    "        \n",
    "    \n",
    "    \n",
    "def quicksort(arr):\n",
    "    pivot_ind=choose_pivot(arr)\n",
    "    \n",
    "    "
   ]
  },
  {
   "cell_type": "markdown",
   "id": "0664e4ed",
   "metadata": {},
   "source": [
    "## Side quest: Shannon's Recursion"
   ]
  },
  {
   "cell_type": "code",
   "execution_count": 39,
   "id": "2ec594ec",
   "metadata": {},
   "outputs": [
    {
     "data": {
      "text/plain": [
       "16"
      ]
     },
     "execution_count": 39,
     "metadata": {},
     "output_type": "execute_result"
    }
   ],
   "source": [
    "#From Shannon's original 1948 paper-- a recursion that counts the number of \n",
    "#sequences of length N with symbols of varying length\n",
    "\n",
    "symbol_lengths=[1,1]\n",
    "def sequence_recursion(N, symbol_lengths):\n",
    "    '''\n",
    "    Compute the number of sequences \n",
    "    of length N made up\n",
    "    of symbols of length symbol_lengths.   \n",
    "    '''\n",
    "    if N==0:\n",
    "        return 1\n",
    "    lst=[]\n",
    "    #Make sure you don't add the symbol if it's\n",
    "    #length is longer than the remaining space\n",
    "    #in the sequence\n",
    "    symbol_lengths_=[s for s in symbol_lengths if s<=N]\n",
    "    for l in symbol_lengths_:\n",
    "        lst.append(sequence_recursion(N-l,symbol_lengths))\n",
    "    return sum(lst)\n",
    "\n",
    "sequence_recursion(4,symbol_lengths)"
   ]
  },
  {
   "cell_type": "markdown",
   "id": "badaa119",
   "metadata": {},
   "source": [
    "## Merge Sort, Counting Inversions"
   ]
  },
  {
   "cell_type": "code",
   "execution_count": 26,
   "id": "7c7e9dc8",
   "metadata": {},
   "outputs": [
    {
     "name": "stdout",
     "output_type": "stream",
     "text": [
      "[0, 1, 2, 3, 4, 5, 6, 7, 8, 9]\n"
     ]
    }
   ],
   "source": [
    "#Merge sort\n",
    "\n",
    "to_sort=[1,4,3,2,5,7,6,8,9,0]\n",
    "\n",
    "def merge(left_arr, right_arr):\n",
    "    srtd=[]\n",
    "    left_ind=0\n",
    "    right_ind=0\n",
    "    left_len=len(left_arr)\n",
    "    right_len=len(right_arr)\n",
    "    for i in range(left_len+right_len):\n",
    "        if left_ind>=left_len:\n",
    "            srtd.append(right_arr[right_ind])\n",
    "            right_ind+=1\n",
    "        elif right_ind>=right_len:\n",
    "            srtd.append(left_arr[left_ind])\n",
    "            left_ind+=1\n",
    "        elif left_arr[left_ind]>=right_arr[right_ind]:\n",
    "            srtd.append(right_arr[right_ind])\n",
    "            right_ind+=1\n",
    "        else:\n",
    "            srtd.append(left_arr[left_ind])\n",
    "            left_ind+=1\n",
    "    return srtd\n",
    "\n",
    "def merge_sort(lst):\n",
    "    splitter=len(lst)//2\n",
    "    \n",
    "    if splitter==0:\n",
    "        return lst\n",
    "    \n",
    "    left_arr=lst[:splitter]\n",
    "    right_arr=lst[splitter:]\n",
    "    \n",
    "    left_sorted=merge_sort(left_arr)\n",
    "    right_sorted=merge_sort(right_arr)\n",
    "    srtd=merge(left_sorted,right_sorted)\n",
    "    \n",
    "    return srtd\n",
    "\n",
    "print(merge_sort(to_sort))\n"
   ]
  },
  {
   "cell_type": "markdown",
   "id": "93aa764a",
   "metadata": {},
   "source": [
    "## Karatsuba Multiplication"
   ]
  },
  {
   "cell_type": "code",
   "execution_count": 21,
   "id": "7c60e280",
   "metadata": {},
   "outputs": [
    {
     "name": "stdout",
     "output_type": "stream",
     "text": [
      "7006652 7006652\n"
     ]
    }
   ],
   "source": [
    "x=1234\n",
    "y=5678\n",
    "answer=x*y\n",
    "\n",
    "def karatsuba(x,y):\n",
    "    splitter=len(str(x))//2\n",
    "    \n",
    "    #Return when x and y both have\n",
    "    #one digit.\n",
    "    if splitter==0:\n",
    "        return x*y\n",
    "    \n",
    "    power=10**splitter\n",
    "    \n",
    "    a,b=divmod(x,power)\n",
    "    c,d=divmod(y,power)\n",
    "    \n",
    "    #pp-- partial product\n",
    "    pp1=karatsuba(a,c)\n",
    "    pp2=karatsuba(b,d)\n",
    "    pp3=karatsuba(a+b,c+d)-pp1-pp2\n",
    "    \n",
    "    return (10**(2*splitter))*pp1+power*pp3+pp2\n",
    "\n",
    "print(answer, karatsuba(x,y))\n",
    "    "
   ]
  },
  {
   "cell_type": "code",
   "execution_count": 22,
   "id": "6a614474",
   "metadata": {},
   "outputs": [
    {
     "name": "stdout",
     "output_type": "stream",
     "text": [
      "64 64\n",
      "8539734222673567065463550869546574495034888535765114961879601127067743044893204848617875072216249073013374895871952806582723184\n"
     ]
    }
   ],
   "source": [
    "x=3141592653589793238462643383279502884197169399375105820974944592\n",
    "y=2718281828459045235360287471352662497757247093699959574966967627\n",
    "print(len(str(x)),len(str(y)))\n",
    "print(karatsuba(x,y))"
   ]
  },
  {
   "cell_type": "code",
   "execution_count": null,
   "id": "61e0dcd1",
   "metadata": {},
   "outputs": [],
   "source": []
  }
 ],
 "metadata": {
  "kernelspec": {
   "display_name": "Python 3 (ipykernel)",
   "language": "python",
   "name": "python3"
  },
  "language_info": {
   "codemirror_mode": {
    "name": "ipython",
    "version": 3
   },
   "file_extension": ".py",
   "mimetype": "text/x-python",
   "name": "python",
   "nbconvert_exporter": "python",
   "pygments_lexer": "ipython3",
   "version": "3.9.13"
  }
 },
 "nbformat": 4,
 "nbformat_minor": 5
}
