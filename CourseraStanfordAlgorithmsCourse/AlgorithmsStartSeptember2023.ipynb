{
 "cells": [
  {
   "cell_type": "markdown",
   "id": "85fdc899",
   "metadata": {},
   "source": [
    "## Merge Sort"
   ]
  },
  {
   "cell_type": "code",
   "execution_count": null,
   "id": "e37294ba",
   "metadata": {},
   "outputs": [],
   "source": []
  },
  {
   "cell_type": "markdown",
   "id": "93aa764a",
   "metadata": {},
   "source": [
    "## Karatsuba Multiplication"
   ]
  },
  {
   "cell_type": "code",
   "execution_count": 13,
   "id": "7c60e280",
   "metadata": {},
   "outputs": [
    {
     "name": "stdout",
     "output_type": "stream",
     "text": [
      "7006652 7006652\n"
     ]
    }
   ],
   "source": [
    "x=1234\n",
    "y=5678\n",
    "answer=x*y\n",
    "\n",
    "def karatsuba(x,y):\n",
    "    splitter=len(str(x))//2\n",
    "    \n",
    "    if splitter==1:\n",
    "        return x*y\n",
    "    \n",
    "    if splitter==2:\n",
    "        return x*y\n",
    "    \n",
    "    a=x//(10**splitter)\n",
    "    b=x%(10**splitter)\n",
    "    c=y//(10**splitter)\n",
    "    d=y%(10**splitter)\n",
    "    \n",
    "    #pp-- partial product\n",
    "    pp1=karatsuba(a,c)\n",
    "    pp2=karatsuba(b,d)\n",
    "    pp3=karatsuba(a+b,c+d)-pp1-pp2\n",
    "    \n",
    "    return (10**(2*splitter))*pp1+(10**splitter)*pp3+pp2\n",
    "\n",
    "print(answer, karatsuba(x,y))\n",
    "    "
   ]
  },
  {
   "cell_type": "code",
   "execution_count": 14,
   "id": "7dbd4d0e",
   "metadata": {},
   "outputs": [
    {
     "name": "stdout",
     "output_type": "stream",
     "text": [
      "64 64\n",
      "8539734222673567065463550869546574495034888535765114961879601127067743044893204848617875072216249073013374895871952806582723184\n"
     ]
    }
   ],
   "source": [
    "x=3141592653589793238462643383279502884197169399375105820974944592\n",
    "y=2718281828459045235360287471352662497757247093699959574966967627\n",
    "print(len(str(x)),len(str(y)))\n",
    "print(karatsuba(x,y))"
   ]
  },
  {
   "cell_type": "code",
   "execution_count": null,
   "id": "cf421fdb",
   "metadata": {},
   "outputs": [],
   "source": []
  }
 ],
 "metadata": {
  "kernelspec": {
   "display_name": "Python 3 (ipykernel)",
   "language": "python",
   "name": "python3"
  },
  "language_info": {
   "codemirror_mode": {
    "name": "ipython",
    "version": 3
   },
   "file_extension": ".py",
   "mimetype": "text/x-python",
   "name": "python",
   "nbconvert_exporter": "python",
   "pygments_lexer": "ipython3",
   "version": "3.9.13"
  }
 },
 "nbformat": 4,
 "nbformat_minor": 5
}
