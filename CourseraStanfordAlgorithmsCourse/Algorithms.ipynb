{
 "cells": [
  {
   "cell_type": "markdown",
   "metadata": {},
   "source": [
    "# Merge Sort"
   ]
  },
  {
   "cell_type": "code",
   "execution_count": null,
   "metadata": {},
   "outputs": [],
   "source": []
  },
  {
   "cell_type": "markdown",
   "metadata": {},
   "source": [
    "# Karatsuba Multiplication"
   ]
  },
  {
   "cell_type": "code",
   "execution_count": 31,
   "metadata": {},
   "outputs": [
    {
     "name": "stdout",
     "output_type": "stream",
     "text": [
      "7006652\n",
      "7006652\n"
     ]
    }
   ],
   "source": [
    "def karatsuba_multiply(n1,n2):\n",
    "    if len(str(n1))==1 or len(str(n2))==1: return n1*n2\n",
    "    n=max(len(str(n1)),len(str(n2)))\n",
    "    m=n//2\n",
    "    x_L=n1 // 10**(m)\n",
    "    x_R=n1 % 10**(m)\n",
    "    y_L= n2 // 10**(m)\n",
    "    y_R=n2 % 10**(m)\n",
    "    P1=karatsuba_multiply(x_L,y_L)\n",
    "    P2=karatsuba_multiply(x_R,y_R)\n",
    "    P3=karatsuba_multiply(x_L+x_R,y_L+y_R)\n",
    "    return P1*10**(2*m)+(P3-P2-P1)*10**(m)+P2\n",
    "\n",
    "n1=1234\n",
    "n2=5678\n",
    "print(karatsuba_multiply(n1,n2))\n",
    "print(n1*n2)"
   ]
  }
 ],
 "metadata": {
  "kernelspec": {
   "display_name": "Python 3",
   "language": "python",
   "name": "python3"
  },
  "language_info": {
   "codemirror_mode": {
    "name": "ipython",
    "version": 3
   },
   "file_extension": ".py",
   "mimetype": "text/x-python",
   "name": "python",
   "nbconvert_exporter": "python",
   "pygments_lexer": "ipython3",
   "version": "3.7.7"
  }
 },
 "nbformat": 4,
 "nbformat_minor": 4
}
