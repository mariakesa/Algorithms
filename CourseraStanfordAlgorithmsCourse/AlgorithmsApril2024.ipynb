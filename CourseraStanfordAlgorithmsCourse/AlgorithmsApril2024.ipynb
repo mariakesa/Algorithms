{
 "cells": [
  {
   "cell_type": "code",
   "execution_count": 62,
   "id": "2f1b3f8a",
   "metadata": {
    "scrolled": true
   },
   "outputs": [
    {
     "data": {
      "text/plain": [
       "[1, 2, 3, 5, 5, 6]"
      ]
     },
     "execution_count": 62,
     "metadata": {},
     "output_type": "execute_result"
    }
   ],
   "source": [
    "#Merge sort\n",
    "\n",
    "unsorted=[5,1,3,2,6,5]\n",
    "\n",
    "def merge(left,right):\n",
    "    merged=[]\n",
    "    while True:\n",
    "        if not left:\n",
    "            return merged+right\n",
    "        elif not right:\n",
    "            return merged+left\n",
    "        if left[0]<=right[0]:\n",
    "            merged.append(left.pop(0))\n",
    "        elif left[0]>right[0]:\n",
    "            merged.append(right.pop(0))\n",
    "\n",
    "    \n",
    "def merge_sort(x):\n",
    "    n=len(x)\n",
    "    if n==1:\n",
    "        return x\n",
    "    m=n//2\n",
    "    left=x[:m]\n",
    "    right=x[m:]\n",
    "    res_left=merge_sort(left)\n",
    "    res_right=merge_sort(right)\n",
    "    return merge(res_left,res_right)\n",
    "\n",
    "merge_sort(unsorted)"
   ]
  },
  {
   "cell_type": "code",
   "execution_count": 46,
   "id": "ac79f318",
   "metadata": {},
   "outputs": [
    {
     "data": {
      "text/plain": [
       "[1, 2]"
      ]
     },
     "execution_count": 46,
     "metadata": {},
     "output_type": "execute_result"
    }
   ],
   "source": [
    "a=[1,2,3]\n",
    "a.pop()\n",
    "a"
   ]
  },
  {
   "cell_type": "code",
   "execution_count": 38,
   "id": "51807b80",
   "metadata": {},
   "outputs": [
    {
     "name": "stdout",
     "output_type": "stream",
     "text": [
      "8539734222673567065463550869546574495034888535765114961879601127067743044893204848617875072216249073013374895871952806582723184\n"
     ]
    }
   ],
   "source": [
    "#Karatsuba multiplication\n",
    "x=3141592653589793238462643383279502884197169399375105820974944592\n",
    "y=2718281828459045235360287471352662497757247093699959574966967627\n",
    "\n",
    "def karatsuba(x,y):\n",
    "    n_digits=max(len(str(x)), len(str(y)))\n",
    "    \n",
    "    if n_digits==1:\n",
    "        return x*y\n",
    "    \n",
    "    m=n_digits//2\n",
    "    \n",
    "    a,b=divmod(x,10**m)\n",
    "    c,d=divmod(y,10**m)\n",
    "    \n",
    "    ac=karatsuba(a,c)\n",
    "    bd=karatsuba(b,d)\n",
    "    pp=karatsuba(a+b,c+d)-ac-bd\n",
    "    \n",
    "    return 10**(2*m)*ac+10**m*pp+bd\n",
    "\n",
    "k=karatsuba(x,y)\n",
    "assert k==x*y\n",
    "print(k)"
   ]
  }
 ],
 "metadata": {
  "kernelspec": {
   "display_name": "Python 3 (ipykernel)",
   "language": "python",
   "name": "python3"
  },
  "language_info": {
   "codemirror_mode": {
    "name": "ipython",
    "version": 3
   },
   "file_extension": ".py",
   "mimetype": "text/x-python",
   "name": "python",
   "nbconvert_exporter": "python",
   "pygments_lexer": "ipython3",
   "version": "3.9.13"
  }
 },
 "nbformat": 4,
 "nbformat_minor": 5
}
