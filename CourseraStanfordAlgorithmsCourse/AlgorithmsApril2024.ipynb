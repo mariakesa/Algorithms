{
 "cells": [
  {
   "cell_type": "code",
   "execution_count": 37,
   "id": "f9f38615",
   "metadata": {},
   "outputs": [],
   "source": [
    "#Karatsuba multiplication\n",
    "x=3141592653589793238462643383279502884197169399375105820974944592\n",
    "y=2718281828459045235360287471352662497757247093699959574966967627\n",
    "\n",
    "def karatsuba(x,y):\n",
    "    n_digits=max(len(str(x)), len(str(y)))\n",
    "    \n",
    "    if n_digits==1:\n",
    "        return x*y\n",
    "    \n",
    "    m=n_digits//2\n",
    "    \n",
    "    a,b=divmod(x,10**m)\n",
    "    c,d=divmod(y,10**m)\n",
    "    \n",
    "    ac=karatsuba(a,c)\n",
    "    bd=karatsuba(b,d)\n",
    "    pp=karatsuba(a+b,c+d)-ac-bd\n",
    "    \n",
    "    return 10**(2*m)*ac+10**m*pp+bd\n",
    "\n",
    "k=karatsuba(x,y)\n",
    "assert k==x*y\n"
   ]
  }
 ],
 "metadata": {
  "kernelspec": {
   "display_name": "Python 3 (ipykernel)",
   "language": "python",
   "name": "python3"
  },
  "language_info": {
   "codemirror_mode": {
    "name": "ipython",
    "version": 3
   },
   "file_extension": ".py",
   "mimetype": "text/x-python",
   "name": "python",
   "nbconvert_exporter": "python",
   "pygments_lexer": "ipython3",
   "version": "3.9.13"
  }
 },
 "nbformat": 4,
 "nbformat_minor": 5
}
