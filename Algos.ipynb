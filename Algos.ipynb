{
 "cells": [
  {
   "cell_type": "markdown",
   "metadata": {},
   "source": [
    "# Trees"
   ]
  },
  {
   "cell_type": "markdown",
   "metadata": {},
   "source": [
    "# QuickSort"
   ]
  },
  {
   "cell_type": "code",
   "execution_count": 9,
   "metadata": {},
   "outputs": [
    {
     "name": "stdout",
     "output_type": "stream",
     "text": [
      "162085\n"
     ]
    }
   ],
   "source": [
    " # -*- coding: utf-8 -*-\n",
    "\"\"\"\n",
    "Created on Thu Jan 22 02:59:35 2015\n",
    "\n",
    "@author: maria\n",
    "\"\"\"\n",
    "'''\n",
    "This code implements the QuickSort algorithm.\n",
    "http://en.wikipedia.org/wiki/Quicksort\n",
    "You can experiment with various pivot positions\n",
    "\"median, \"first\",\"last\". The program prints\n",
    "the number of inversions to sort the array.\n",
    "\n",
    "'''\n",
    "import numpy as np\n",
    "\n",
    "f=open(\"QuickSort.txt\",'r')\n",
    "z=f.readlines()\n",
    "\n",
    "array=[]\n",
    "for j in z:\n",
    "    array.append(int(j))\n",
    "\n",
    "def pivot_position(array,method):\n",
    "    if method==\"first\":\n",
    "        return 0\n",
    "    if method==\"last\":\n",
    "        return len(array)-1\n",
    "    if method==\"median\":\n",
    "        first=array[0]\n",
    "        last=array[len(array)-1]\n",
    "        middle=array[int((len(array)-1)/2)]\n",
    "        med=np.median([first,middle,last])\n",
    "        return array.index(med)\n",
    "\n",
    "def partition_around_pivot(array,pivot_position):\n",
    "    #Re-arrange pivot to first element\n",
    "    array[pivot_position],array[0]=array[0],array[pivot_position]\n",
    "    i=1\n",
    "    #Swaps\n",
    "    for j in range(1,len(array)):\n",
    "        if array[j]<array[0]:\n",
    "            array[j],array[i] = array[i], array[j]\n",
    "            i += 1\n",
    "    array[0], array[i-1] = array[i-1], array[0]\n",
    "    return array, i-1\n",
    "\n",
    "running_count=0\n",
    "    \n",
    "def QuickSort(array,pivot_method):\n",
    "    if len(array)>1:\n",
    "        global running_count\n",
    "        pivot_pos = pivot_position(array,pivot_method)\n",
    "        partitioned_array, new_pivot = partition_around_pivot(array,pivot_pos)\n",
    "        first_half, middle, second_half=partitioned_array[:new_pivot], [partitioned_array[new_pivot]], partitioned_array[new_pivot+1:]\n",
    "        running_count+=len(partitioned_array)-1\n",
    "        first_half = QuickSort(first_half,pivot_method)    \n",
    "        second_half = QuickSort(second_half,pivot_method)\n",
    "        array = first_half+ middle + second_half\n",
    "        return array\n",
    "    else:\n",
    "        return array\n",
    "\n",
    "z=QuickSort(array,\"first\")\n",
    "\n",
    "print(running_count)"
   ]
  },
  {
   "cell_type": "markdown",
   "metadata": {},
   "source": [
    "# Count Inversions"
   ]
  },
  {
   "cell_type": "code",
   "execution_count": 63,
   "metadata": {},
   "outputs": [
    {
     "name": "stdout",
     "output_type": "stream",
     "text": [
      "0.4356098175048828\n"
     ]
    }
   ],
   "source": [
    "import time\n",
    "\n",
    "f=open(\"sorting.txt\",'r')\n",
    "z=f.readlines()\n",
    "\n",
    "array=[]\n",
    "for j in z:\n",
    "    array.append(int(j))\n",
    "\n",
    "def split(array):\n",
    "    first=array[:int(len(array)/2)]\n",
    "    second=array[int(len(array)/2):]\n",
    "    return first, second\n",
    "    \n",
    "def merge(array1,array2):\n",
    "    inversions=0\n",
    "    merged_array=[]\n",
    "    for j in array2:\n",
    "        for i in array1:\n",
    "            if i<j:\n",
    "                merged_array.append(i)\n",
    "                array1=array1[1:]\n",
    "            else:\n",
    "                merged_array.append(j)\n",
    "                array2=array2[1:]\n",
    "                inversions+=len(array1)\n",
    "                break\n",
    "    merged_array=merged_array+array2+array1\n",
    "    return merged_array, inversions\n",
    "'''\n",
    "def merge(array1,array2):\n",
    "    inversions=0\n",
    "    merged_array=[]\n",
    "    while array1 and array2:\n",
    "        if array1[0] < array2[0]:\n",
    "            merged_array.append(array1.pop(0))\n",
    "        else:\n",
    "            inversions+=len(array1)\n",
    "            merged_array.append(array2.pop(0))\n",
    "    merged_array.extend(array1+array2)\n",
    "    return merged_array, inversions\n",
    "\n",
    "def merge(array1,array2):\n",
    "    inversions=0\n",
    "    merged_array=[]\n",
    "    i=0\n",
    "    j=0\n",
    "    while i<len(array1) and j<len(array2):\n",
    "        if array1[i]<array2[j]:\n",
    "            merged_array.append(array1[i])\n",
    "            i+=1\n",
    "        else:\n",
    "            merged_array.append(array2[j])\n",
    "            j+=1\n",
    "            inversions+=len(array1)-i\n",
    "    merged_array.extend(array1[i:]+array2[j:])\n",
    "    return merged_array, inversions\n",
    "# this is slower:\n",
    "def merge(array1,array2):\n",
    "    inversions=0\n",
    "    merged_array=[None]*(len(array1)+len(array2))\n",
    "    i=0\n",
    "    j=0\n",
    "    k=0\n",
    "    while i<len(array1) and j<len(array2):\n",
    "        if array1[i]<array2[j]:\n",
    "            merged_array[k]=array1[i]\n",
    "            i+=1\n",
    "        else:\n",
    "            merged_array[k]=array2[j]\n",
    "            j+=1\n",
    "            inversions+=len(array1)-i\n",
    "        k+=1\n",
    "    merged_array[k:k+len(array1)-i]=array1[i:]\n",
    "    k+=len(array1)-i\n",
    "    merged_array[k:k+len(array2)-j]=array2[j:]\n",
    "    return merged_array, inversions\n",
    "'''\n",
    "def merge(array1,array2):\n",
    "    inversions=0\n",
    "    merged_array=[]\n",
    "    i=0\n",
    "    j=0\n",
    "    l1=len(array1)\n",
    "    l2=len(array2)\n",
    "    while i<l1 and j<l2:\n",
    "        if array1[i]<array2[j]:\n",
    "            merged_array.append(array1[i])\n",
    "            i+=1\n",
    "        else:\n",
    "            merged_array.append(array2[j])\n",
    "            j+=1\n",
    "            inversions+=l1-i\n",
    "    merged_array.extend(array1[i:]+array2[j:])\n",
    "    return merged_array, inversions\n",
    "\n",
    "def MergeSort(array):\n",
    "    if len(array)>1:\n",
    "        first_half, second_half=split(array)\n",
    "        first_half, inv_left = MergeSort(first_half)\n",
    "        second_half, inv_right = MergeSort(second_half)\n",
    "        array, inv_split = merge(first_half,second_half)\n",
    "        nr_of_inversions = inv_left + inv_right + inv_split\n",
    "        return array, nr_of_inversions\n",
    "    else:\n",
    "        nr_of_inversions = 0\n",
    "        return array, nr_of_inversions\n",
    "\n",
    "start=time.time()\n",
    "result, nr_of_inversions=MergeSort(array)\n",
    "end=time.time()\n",
    "print(end-start)\n",
    "#print(result,nr_of_inversions)"
   ]
  },
  {
   "cell_type": "markdown",
   "metadata": {},
   "source": [
    "# MergeSort"
   ]
  },
  {
   "cell_type": "code",
   "execution_count": 6,
   "metadata": {},
   "outputs": [
    {
     "name": "stdout",
     "output_type": "stream",
     "text": [
      "[1, 2, 3, 4]\n",
      "[1, 2, 3, 4]\n",
      "[1, 3, 5, 100]\n"
     ]
    }
   ],
   "source": [
    "def merge(left_arr,right_arr):\n",
    "    if len(left_arr)==0: return right_arr\n",
    "    if len(right_arr)==0: return left_arr\n",
    "    if left_arr[0]<=right_arr[0]:\n",
    "        return [left_arr[0]]+merge(left_arr[1:],right_arr)\n",
    "    else:\n",
    "        return [right_arr[0]]+merge(left_arr,right_arr[1:])\n",
    "    \n",
    "\n",
    "def mergeSort(array):\n",
    "    if len(array)==1:\n",
    "        return array\n",
    "    split_ind=len(array)//2\n",
    "    left_arr=array[:split_ind]\n",
    "    right_arr=array[split_ind:]\n",
    "    sortd_left=mergeSort(left_arr)\n",
    "    sortd_right=mergeSort(right_arr)\n",
    "    merged_arr=merge(sortd_left,sortd_right)\n",
    "    return merged_arr\n",
    "print(merge([3,4],[1,2]))\n",
    "\n",
    "print(mergeSort([5,3,1,100]))"
   ]
  },
  {
   "cell_type": "markdown",
   "metadata": {},
   "source": [
    "# Udacity course"
   ]
  },
  {
   "cell_type": "code",
   "execution_count": 2,
   "metadata": {},
   "outputs": [
    {
     "data": {
      "text/plain": [
       "100"
      ]
     },
     "execution_count": 2,
     "metadata": {},
     "output_type": "execute_result"
    }
   ],
   "source": [
    "#problems from Udacity Intro to Algorithms course by Michael Littman\n",
    "#Check out this cool video on recursion https://www.youtube.com/watch?v=2SUvWfNJSsM&t=210s\n",
    "def naive(a, b):\n",
    "    x = a\n",
    "    y = b\n",
    "    z = 0\n",
    "    while x > 0:\n",
    "        z = z + y\n",
    "        x = x - 1\n",
    "    return z\n",
    "naive(10,10)"
   ]
  }
 ],
 "metadata": {
  "kernelspec": {
   "display_name": "Python 3",
   "language": "python",
   "name": "python3"
  },
  "language_info": {
   "codemirror_mode": {
    "name": "ipython",
    "version": 3
   },
   "file_extension": ".py",
   "mimetype": "text/x-python",
   "name": "python",
   "nbconvert_exporter": "python",
   "pygments_lexer": "ipython3",
   "version": "3.7.4"
  }
 },
 "nbformat": 4,
 "nbformat_minor": 2
}
