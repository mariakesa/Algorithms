{
 "cells": [
  {
   "cell_type": "code",
   "execution_count": 14,
   "id": "4e3cb3e7",
   "metadata": {},
   "outputs": [
    {
     "name": "stdout",
     "output_type": "stream",
     "text": [
      "3\n"
     ]
    }
   ],
   "source": [
    "'''\n",
    "Good morning! Here's your coding interview problem for today.\n",
    "\n",
    "This problem was asked by Salesforce.\n",
    "\n",
    "The number 6174 is known as Kaprekar's contant, after the mathematician who discovered an associated property: for all four-digit numbers with at least two distinct digits, repeatedly applying a simple procedure eventually results in this value. The procedure is as follows:\n",
    "\n",
    "For a given input x, create two new numbers that consist of the digits in x in ascending and descending order.\n",
    "Subtract the smaller number from the larger number.\n",
    "For example, this algorithm terminates in three steps when starting from 1234:\n",
    "\n",
    "4321 - 1234 = 3087\n",
    "8730 - 0378 = 8352\n",
    "8532 - 2358 = 6174\n",
    "Write a function that returns how many steps this will take for a given input N.\n",
    "\n",
    "'''\n",
    "\n",
    "def countKarpekarDepth(number, count=0):\n",
    "    if number==6174:\n",
    "        return count\n",
    "    digits=('').join(sorted(str(number)))\n",
    "    reverse=digits[::-1]\n",
    "    container=[int(digits), int(reverse)]\n",
    "    new_number=max(container)-min(container)\n",
    "    return countKarpekarDepth(new_number,count=count+1)\n",
    " \n",
    "number=1234\n",
    "cnt=countKarpekarDepth(number, count=0)\n",
    "print(cnt)"
   ]
  }
 ],
 "metadata": {
  "kernelspec": {
   "display_name": "Python 3 (ipykernel)",
   "language": "python",
   "name": "python3"
  },
  "language_info": {
   "codemirror_mode": {
    "name": "ipython",
    "version": 3
   },
   "file_extension": ".py",
   "mimetype": "text/x-python",
   "name": "python",
   "nbconvert_exporter": "python",
   "pygments_lexer": "ipython3",
   "version": "3.9.13"
  }
 },
 "nbformat": 4,
 "nbformat_minor": 5
}
